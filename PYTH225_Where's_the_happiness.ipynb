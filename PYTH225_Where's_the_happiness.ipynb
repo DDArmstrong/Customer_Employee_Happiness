{
  "nbformat": 4,
  "nbformat_minor": 0,
  "metadata": {
    "colab": {
      "name": "PYTH225: Where's the happiness v2",
      "provenance": [],
      "collapsed_sections": [],
      "include_colab_link": true
    },
    "kernelspec": {
      "display_name": "Python 3",
      "name": "python3"
    }
  },
  "cells": [
    {
      "cell_type": "markdown",
      "metadata": {
        "id": "view-in-github",
        "colab_type": "text"
      },
      "source": [
        "<a href=\"https://colab.research.google.com/github/Denko/Customer_Employee_Happiness/blob/master/PYTH225_Where's_the_happiness.ipynb\" target=\"_parent\"><img src=\"https://colab.research.google.com/assets/colab-badge.svg\" alt=\"Open In Colab\"/></a>"
      ]
    },
    {
      "cell_type": "markdown",
      "metadata": {
        "colab_type": "text",
        "id": "5fCEDCU_qrC0"
      },
      "source": [
        "<h1>Happy employees, happy customers</h1>\n",
        "\n",
        "In Bernie's dark world, capitalists live to squeeze workers and gouge customers. In Chamber-of-Commerce world, cheerful workers spread customer joy.\n",
        "\n",
        "What does the data say?\n",
        "\n",
        "In this project, we'll find retail companies with happy employees and see whether those firms also have happy customers. We'll create 2x2 scatter plots by industry and find companies that score well (and not as well) on both dimensions.\n",
        "\n",
        "The two axes will measure:\n",
        "\n",
        "*   Customer satisfaction as shown by the [American Customer Satisfaction Index (ASCI)](https://en.wikipedia.org/wiki/American_Customer_Satisfaction_Index), and\n",
        "\n",
        "*   Employee satisfaction as shown by [Glassdoor](https://en.wikipedia.org/wiki/Glassdoor) ratings.\n",
        "\n",
        "## <h2>The output</h2>\n",
        "I created a model in Tableau for [fast food companies](https://drive.google.com/uc?id=1E5G-uP2j6kQ3CCG2A6eOVZRWnuFg1KfU). The goal of this project will be to create something similar - as well as, ideally, to do some additonal exploratory data analysis on the measures - using Python.\n",
        "\n",
        "## <h2>The data</h2>\n",
        "Grabbing the ACSI data, which measures customer satisfaction by industry, is a matter of [copying, pasting, and doing a little parsing](https://www.theacsi.org/index.php?option=com_content&view=article&id=149&catid=&Itemid=214&i=Airlines). It's an Excel job (although, as Andy pointed out, the ACSI data could have been read directly into Pandas with [read_html](https://pandas.pydata.org/pandas-docs/version/0.23.4/generated/pandas.read_html.html)).\n",
        "\n",
        "Getting Glassdoor ratings is tougher. There's no way to search on companies using a standardized identifier like ticker, and each rating is buried within the html on a couple of different company pages. (See the rating for [General Assembly, 3.6 out of five (not bad)](https://www.glassdoor.com/Reviews/General-Assembly-Reviews-E459214.htm), based on 388 reviews, a number suggesting [some degree of credibility](https://www.wsj.com/articles/companies-manipulate-glassdoor-by-inflating-rankings-and-pressuring-employees-11548171977).)\n",
        "\n",
        "\n",
        "## <h2>Methodology</h2>\n",
        "\n",
        "1.   Grab the customer and employee satisfaction data for the companies in the industries tracked by the ACSI.\n",
        "2.   Save it on Google Drive as a csv file.\n",
        "3.   Find summary statistics for both the ACSI and Glassdoor measures, as a group and by industry (average, median, max, min).\n",
        "4.   Inspect the correlations and p-values between ACSI (customer satisfaction) and Glassdoor (employee satisfaction) to confirm that a relationship exists and see how strong and significant it is.\n",
        "5.   Using matplotlib or a similar library, create scatter plots by industry and across all industries.\n",
        "6.   Using the medians or averages, divide the scatter plots into four quadrants: happy employees and customers, unhappy employees and customers, and a mix of the two.\n",
        "7.   List the \"winners\": the companies in the top right quadrant, which have higher-than-average employee and customer satisfaction. List the losers in the opposite quadrant too.\n",
        "8.   Based on the data, speculate on what makes the winners special."
      ]
    },
    {
      "cell_type": "markdown",
      "metadata": {
        "id": "htKD6svWgt8P",
        "colab_type": "text"
      },
      "source": [
        "# The data"
      ]
    },
    {
      "cell_type": "markdown",
      "metadata": {
        "id": "LFuJ2q9taG39",
        "colab_type": "text"
      },
      "source": [
        "Bring in the data and store it in a dataframe."
      ]
    },
    {
      "cell_type": "code",
      "metadata": {
        "id": "nmvFCBORg15O",
        "colab_type": "code",
        "outputId": "3fb9258c-b433-4d4c-be06-c99821045cc8",
        "colab": {
          "base_uri": "https://localhost:8080/",
          "height": 72
        }
      },
      "source": [
        "import pandas as pd\n",
        "import numpy as np\n",
        "from scipy.stats import pearsonr # To see correlations between employee and customer satisfaction.\n",
        "import matplotlib.pyplot as plt # To create scatter plots\n",
        "import seaborn as sns # For nice graphics and formatting\n",
        "from tabulate import tabulate # To get pretty tables\n",
        "\n",
        "# Next code is from https://towardsdatascience.com/3-ways-to-load-csv-files-into-colab-7c14fcbdcb92\n",
        "\n",
        "from pydrive.auth import GoogleAuth\n",
        "from pydrive.drive import GoogleDrive\n",
        "from google.colab import auth\n",
        "from oauth2client.client import GoogleCredentials\n",
        "\n",
        "# Authenticate and create the PyDrive client.\n",
        "auth.authenticate_user()\n",
        "gauth = GoogleAuth()\n",
        "gauth.credentials = GoogleCredentials.get_application_default()\n",
        "drive = GoogleDrive(gauth)\n",
        "\n",
        "link = 'https://drive.google.com/open?id=1PASwl5-MrBwbxJxH5SmgXTm2P-hVZqsk'\n",
        "fluff, id = link.split('=')\n",
        "# print (id) # Verify that you have everything after '='\n",
        "\n",
        "downloaded = drive.CreateFile({'id':id}) \n",
        "downloaded.GetContentFile('company_love.csv')  \n",
        "ratings = pd.read_csv('company_love.csv')\n",
        "# Dataset is now stored in a Pandas Dataframe"
      ],
      "execution_count": 0,
      "outputs": [
        {
          "output_type": "stream",
          "text": [
            "/usr/local/lib/python3.6/dist-packages/statsmodels/tools/_testing.py:19: FutureWarning: pandas.util.testing is deprecated. Use the functions in the public API at pandas.testing instead.\n",
            "  import pandas.util.testing as tm\n"
          ],
          "name": "stderr"
        }
      ]
    },
    {
      "cell_type": "markdown",
      "metadata": {
        "id": "y8kzRsSUa2-M",
        "colab_type": "text"
      },
      "source": [
        "Describe the data:\n",
        "\n",
        "*   269 companies\n",
        "\n",
        "*   \"Customer Satisfaction\" shows how the companies are rated on a scale of 0-100 according to the ACSI (American Customer Satisfaction Index)\n",
        "*   Five ratings of employee satisfaction, on a scale of 0 to 5, from Glassdoor employee reviews: Overall satisfaction, Compensation & Benefits, Culture & Values, Career Opportunities and Work-Life Balance\n",
        "*   The number of reviews the Glassdoor ratings are based on, both English-language reviews and total reviews"
      ]
    },
    {
      "cell_type": "code",
      "metadata": {
        "id": "1_U0SrCga61n",
        "colab_type": "code",
        "outputId": "b81b20dd-4d4d-4c06-ffa7-40c1d008d7c2",
        "colab": {
          "base_uri": "https://localhost:8080/",
          "height": 294
        }
      },
      "source": [
        "ratings.iloc[:,0:9].describe()"
      ],
      "execution_count": 0,
      "outputs": [
        {
          "output_type": "execute_result",
          "data": {
            "text/html": [
              "<div>\n",
              "<style scoped>\n",
              "    .dataframe tbody tr th:only-of-type {\n",
              "        vertical-align: middle;\n",
              "    }\n",
              "\n",
              "    .dataframe tbody tr th {\n",
              "        vertical-align: top;\n",
              "    }\n",
              "\n",
              "    .dataframe thead th {\n",
              "        text-align: right;\n",
              "    }\n",
              "</style>\n",
              "<table border=\"1\" class=\"dataframe\">\n",
              "  <thead>\n",
              "    <tr style=\"text-align: right;\">\n",
              "      <th></th>\n",
              "      <th>Customer Satisfaction</th>\n",
              "      <th>Overall Employee</th>\n",
              "      <th>Comp &amp; Benefits</th>\n",
              "      <th>Culture &amp; Values</th>\n",
              "      <th>Career Opportunities</th>\n",
              "      <th>Work-Life Balance</th>\n",
              "    </tr>\n",
              "  </thead>\n",
              "  <tbody>\n",
              "    <tr>\n",
              "      <th>count</th>\n",
              "      <td>269.000000</td>\n",
              "      <td>269.000000</td>\n",
              "      <td>269.000000</td>\n",
              "      <td>269.000000</td>\n",
              "      <td>269.000000</td>\n",
              "      <td>269.000000</td>\n",
              "    </tr>\n",
              "    <tr>\n",
              "      <th>mean</th>\n",
              "      <td>77.081784</td>\n",
              "      <td>3.492193</td>\n",
              "      <td>3.455390</td>\n",
              "      <td>3.423420</td>\n",
              "      <td>3.227881</td>\n",
              "      <td>3.363941</td>\n",
              "    </tr>\n",
              "    <tr>\n",
              "      <th>std</th>\n",
              "      <td>4.437880</td>\n",
              "      <td>0.393101</td>\n",
              "      <td>0.514653</td>\n",
              "      <td>0.480681</td>\n",
              "      <td>0.393230</td>\n",
              "      <td>0.426458</td>\n",
              "    </tr>\n",
              "    <tr>\n",
              "      <th>min</th>\n",
              "      <td>57.000000</td>\n",
              "      <td>2.100000</td>\n",
              "      <td>1.800000</td>\n",
              "      <td>1.800000</td>\n",
              "      <td>1.600000</td>\n",
              "      <td>1.800000</td>\n",
              "    </tr>\n",
              "    <tr>\n",
              "      <th>25%</th>\n",
              "      <td>75.000000</td>\n",
              "      <td>3.200000</td>\n",
              "      <td>3.000000</td>\n",
              "      <td>3.100000</td>\n",
              "      <td>3.000000</td>\n",
              "      <td>3.100000</td>\n",
              "    </tr>\n",
              "    <tr>\n",
              "      <th>50%</th>\n",
              "      <td>78.000000</td>\n",
              "      <td>3.500000</td>\n",
              "      <td>3.600000</td>\n",
              "      <td>3.400000</td>\n",
              "      <td>3.200000</td>\n",
              "      <td>3.400000</td>\n",
              "    </tr>\n",
              "    <tr>\n",
              "      <th>75%</th>\n",
              "      <td>80.000000</td>\n",
              "      <td>3.800000</td>\n",
              "      <td>3.800000</td>\n",
              "      <td>3.800000</td>\n",
              "      <td>3.500000</td>\n",
              "      <td>3.700000</td>\n",
              "    </tr>\n",
              "    <tr>\n",
              "      <th>max</th>\n",
              "      <td>86.000000</td>\n",
              "      <td>4.500000</td>\n",
              "      <td>4.700000</td>\n",
              "      <td>4.600000</td>\n",
              "      <td>4.400000</td>\n",
              "      <td>4.700000</td>\n",
              "    </tr>\n",
              "  </tbody>\n",
              "</table>\n",
              "</div>"
            ],
            "text/plain": [
              "       Customer Satisfaction  ...  Work-Life Balance\n",
              "count             269.000000  ...         269.000000\n",
              "mean               77.081784  ...           3.363941\n",
              "std                 4.437880  ...           0.426458\n",
              "min                57.000000  ...           1.800000\n",
              "25%                75.000000  ...           3.100000\n",
              "50%                78.000000  ...           3.400000\n",
              "75%                80.000000  ...           3.700000\n",
              "max                86.000000  ...           4.700000\n",
              "\n",
              "[8 rows x 6 columns]"
            ]
          },
          "metadata": {
            "tags": []
          },
          "execution_count": 3
        }
      ]
    },
    {
      "cell_type": "markdown",
      "metadata": {
        "id": "CHKhf7lCdmU0",
        "colab_type": "text"
      },
      "source": [
        "Show the number of companies per industry category."
      ]
    },
    {
      "cell_type": "code",
      "metadata": {
        "id": "QbgKcAcwdr77",
        "colab_type": "code",
        "outputId": "b578e476-a68e-420a-e44e-6b30d33333b3",
        "colab": {
          "base_uri": "https://localhost:8080/",
          "height": 589
        }
      },
      "source": [
        "print('Companies per Industry\\n')\n",
        "print(ratings['Industry'].value_counts())"
      ],
      "execution_count": 0,
      "outputs": [
        {
          "output_type": "stream",
          "text": [
            "Companies per Industry\n",
            "\n",
            "Specialty Retail Stores                26\n",
            "Investor-Owned Energy Utilities        25\n",
            "Supermarkets                           19\n",
            "Limited-Service Restaurants            15\n",
            "Automobiles and Light Vehicles         14\n",
            "Internet Retail                        13\n",
            "Banks                                  13\n",
            "Video Streaming Service                11\n",
            "Full-Service Restaurants               11\n",
            "Food Manufacturing                     10\n",
            "Personal Computers                      9\n",
            "Airlines                                8\n",
            "Property and Casualty Insurance         8\n",
            "Hotels                                  8\n",
            "Department and Discount Stores          7\n",
            "Internet News and Opinion               7\n",
            "Personal Care and Cleaning Products     6\n",
            "Health Insurance                        6\n",
            "Wireless Telephone Service              6\n",
            "Internet Investment Services            6\n",
            "Life Insurance                          5\n",
            "Household Appliances                    5\n",
            "Internet Social Media                   5\n",
            "Financial Advisors                      5\n",
            "Video-on-Demand Service                 5\n",
            "Apparel                                 4\n",
            "Soft Drinks                             3\n",
            "Consumer Shipping                       3\n",
            "Internet Service Providers              3\n",
            "Internet Travel Services                3\n",
            "Name: Industry, dtype: int64\n"
          ],
          "name": "stdout"
        }
      ]
    },
    {
      "cell_type": "markdown",
      "metadata": {
        "id": "QMKRdQDsltkJ",
        "colab_type": "text"
      },
      "source": [
        "# How industries fare"
      ]
    },
    {
      "cell_type": "markdown",
      "metadata": {
        "id": "SlgNThavfr78",
        "colab_type": "text"
      },
      "source": [
        "Using the ACSI ratings, let's look at the industries that customers like the most. (Can you guess what industry they hate?) "
      ]
    },
    {
      "cell_type": "code",
      "metadata": {
        "id": "jtvEwpFjf8hJ",
        "colab_type": "code",
        "outputId": "7178158f-aa17-4228-8756-2228c03cf80f",
        "colab": {
          "base_uri": "https://localhost:8080/",
          "height": 570
        }
      },
      "source": [
        "# The \"sort_values\" function at the end sorts the industries by customer satisfaction from best to least.\n",
        "sum_table = ratings.groupby(['Industry'])['Customer Satisfaction'].describe()[['count', 'mean','max','min']].sort_values('mean', ascending=False)\n",
        "print(sum_table)\n"
      ],
      "execution_count": 0,
      "outputs": [
        {
          "output_type": "stream",
          "text": [
            "                                     count       mean   max   min\n",
            "Industry                                                         \n",
            "Soft Drinks                            3.0  81.666667  82.0  81.0\n",
            "Food Manufacturing                    10.0  81.500000  84.0  80.0\n",
            "Personal Care and Cleaning Products    6.0  80.333333  84.0  77.0\n",
            "Household Appliances                   5.0  80.200000  82.0  79.0\n",
            "Internet Investment Services           6.0  80.000000  81.0  78.0\n",
            "Life Insurance                         5.0  79.800000  82.0  78.0\n",
            "Apparel                                4.0  79.750000  83.0  77.0\n",
            "Internet Retail                       13.0  79.307692  82.0  73.0\n",
            "Supermarkets                          19.0  79.210526  84.0  73.0\n",
            "Financial Advisors                     5.0  79.200000  80.0  78.0\n",
            "Full-Service Restaurants              11.0  79.090909  83.0  77.0\n",
            "Internet Travel Services               3.0  79.000000  82.0  76.0\n",
            "Automobiles and Light Vehicles        14.0  78.785714  83.0  71.0\n",
            "Property and Casualty Insurance        8.0  78.375000  81.0  76.0\n",
            "Specialty Retail Stores               26.0  78.346154  82.0  75.0\n",
            "Banks                                 13.0  78.230769  81.0  76.0\n",
            "Personal Computers                     9.0  78.000000  83.0  74.0\n",
            "Limited-Service Restaurants           15.0  77.800000  86.0  69.0\n",
            "Consumer Shipping                      3.0  77.333333  79.0  74.0\n",
            "Department and Discount Stores         7.0  76.142857  78.0  73.0\n",
            "Hotels                                 8.0  75.250000  80.0  64.0\n",
            "Health Insurance                       6.0  75.000000  79.0  71.0\n",
            "Video Streaming Service               11.0  74.545455  79.0  68.0\n",
            "Wireless Telephone Service             6.0  74.166667  78.0  69.0\n",
            "Investor-Owned Energy Utilities       25.0  73.920000  80.0  68.0\n",
            "Internet News and Opinion              7.0  73.285714  78.0  69.0\n",
            "Airlines                               8.0  72.875000  80.0  63.0\n",
            "Internet Social Media                  5.0  71.400000  80.0  63.0\n",
            "Video-on-Demand Service                5.0  66.800000  71.0  64.0\n",
            "Internet Service Providers             3.0  61.666667  69.0  57.0\n"
          ],
          "name": "stdout"
        }
      ]
    },
    {
      "cell_type": "markdown",
      "metadata": {
        "id": "iZ-9kAxYgr_R",
        "colab_type": "text"
      },
      "source": [
        "What about employees? Let's look at the industries employees most love and hate."
      ]
    },
    {
      "cell_type": "code",
      "metadata": {
        "id": "6giH6BRbhGad",
        "colab_type": "code",
        "outputId": "483c1fea-26a4-4f01-e764-c46f1a6eb9f3",
        "colab": {
          "base_uri": "https://localhost:8080/",
          "height": 572
        }
      },
      "source": [
        "sum_table_emp = ratings.groupby(['Industry'])['Overall Employee'].describe()[['count', 'mean','max','min']].sort_values('mean', ascending=False)\n",
        "print(sum_table_emp)"
      ],
      "execution_count": 0,
      "outputs": [
        {
          "output_type": "stream",
          "text": [
            "                                     count      mean  max  min\n",
            "Industry                                                      \n",
            "Internet Social Media                  5.0  3.900000  4.4  3.4\n",
            "Personal Care and Cleaning Products    6.0  3.850000  4.0  3.3\n",
            "Airlines                               8.0  3.837500  4.3  3.3\n",
            "Personal Computers                     9.0  3.833333  4.4  3.3\n",
            "Hotels                                 8.0  3.800000  4.5  3.0\n",
            "Video Streaming Service               11.0  3.736364  4.4  2.9\n",
            "Food Manufacturing                    10.0  3.670000  4.5  3.1\n",
            "Internet Investment Services           6.0  3.666667  3.9  3.2\n",
            "Internet News and Opinion              7.0  3.600000  3.8  3.0\n",
            "Financial Advisors                     5.0  3.580000  3.8  3.3\n",
            "Household Appliances                   5.0  3.580000  4.0  2.9\n",
            "Soft Drinks                            3.0  3.566667  3.7  3.3\n",
            "Internet Travel Services               3.0  3.566667  3.8  3.3\n",
            "Life Insurance                         5.0  3.560000  3.7  3.3\n",
            "Automobiles and Light Vehicles        14.0  3.557143  4.1  2.5\n",
            "Banks                                 13.0  3.492308  3.8  3.2\n",
            "Investor-Owned Energy Utilities       25.0  3.468000  4.0  2.1\n",
            "Health Insurance                       6.0  3.450000  3.9  2.8\n",
            "Property and Casualty Insurance        8.0  3.437500  4.0  3.2\n",
            "Limited-Service Restaurants           15.0  3.420000  3.9  3.0\n",
            "Full-Service Restaurants              11.0  3.381818  3.9  3.1\n",
            "Apparel                                4.0  3.375000  3.8  3.0\n",
            "Wireless Telephone Service             6.0  3.366667  4.0  2.6\n",
            "Consumer Shipping                      3.0  3.366667  3.7  2.9\n",
            "Supermarkets                          19.0  3.363158  4.2  2.3\n",
            "Internet Retail                       13.0  3.353846  4.0  2.6\n",
            "Specialty Retail Stores               26.0  3.280769  3.8  2.9\n",
            "Video-on-Demand Service                5.0  3.160000  3.7  2.5\n",
            "Internet Service Providers             3.0  3.133333  3.4  3.0\n",
            "Department and Discount Stores         7.0  2.971429  3.2  2.7\n"
          ],
          "name": "stdout"
        }
      ]
    },
    {
      "cell_type": "markdown",
      "metadata": {
        "id": "SduFsT4clQMH",
        "colab_type": "text"
      },
      "source": [
        "What about the companies within these industry categories? \n",
        "\n",
        "The industry with the highest consumer rating is soft drinks. But working for a soft drink manufacturer isn't quite as nice as buying from one. When it comes to soft drinks, happy employees and happy customer don't go together."
      ]
    },
    {
      "cell_type": "code",
      "metadata": {
        "id": "DsuiIy1CmUh8",
        "colab_type": "code",
        "outputId": "66e38225-5455-4fd7-8fd1-4d5f0f715a2f",
        "colab": {
          "base_uri": "https://localhost:8080/",
          "height": 138
        }
      },
      "source": [
        "Soft_Drinks = ratings[ratings['Industry'] == 'Soft Drinks']\n",
        "Soft_Drinks.iloc[:,0:4].sort_values('Customer Satisfaction', ascending=False)"
      ],
      "execution_count": 0,
      "outputs": [
        {
          "output_type": "execute_result",
          "data": {
            "text/html": [
              "<div>\n",
              "<style scoped>\n",
              "    .dataframe tbody tr th:only-of-type {\n",
              "        vertical-align: middle;\n",
              "    }\n",
              "\n",
              "    .dataframe tbody tr th {\n",
              "        vertical-align: top;\n",
              "    }\n",
              "\n",
              "    .dataframe thead th {\n",
              "        text-align: right;\n",
              "    }\n",
              "</style>\n",
              "<table border=\"1\" class=\"dataframe\">\n",
              "  <thead>\n",
              "    <tr style=\"text-align: right;\">\n",
              "      <th></th>\n",
              "      <th>Industry</th>\n",
              "      <th>Company</th>\n",
              "      <th>Customer Satisfaction</th>\n",
              "      <th>Overall Employee</th>\n",
              "    </tr>\n",
              "  </thead>\n",
              "  <tbody>\n",
              "    <tr>\n",
              "      <th>200</th>\n",
              "      <td>Soft Drinks</td>\n",
              "      <td>Keurig Dr Pepper</td>\n",
              "      <td>82</td>\n",
              "      <td>3.3</td>\n",
              "    </tr>\n",
              "    <tr>\n",
              "      <th>201</th>\n",
              "      <td>Soft Drinks</td>\n",
              "      <td>PepsiCo</td>\n",
              "      <td>82</td>\n",
              "      <td>3.7</td>\n",
              "    </tr>\n",
              "    <tr>\n",
              "      <th>199</th>\n",
              "      <td>Soft Drinks</td>\n",
              "      <td>Coca-Cola</td>\n",
              "      <td>81</td>\n",
              "      <td>3.7</td>\n",
              "    </tr>\n",
              "  </tbody>\n",
              "</table>\n",
              "</div>"
            ],
            "text/plain": [
              "        Industry           Company  Customer Satisfaction  Overall Employee\n",
              "200  Soft Drinks  Keurig Dr Pepper                     82               3.3\n",
              "201  Soft Drinks           PepsiCo                     82               3.7\n",
              "199  Soft Drinks         Coca-Cola                     81               3.7"
            ]
          },
          "metadata": {
            "tags": []
          },
          "execution_count": 7
        }
      ]
    },
    {
      "cell_type": "markdown",
      "metadata": {
        "id": "f7Klhk0DpIjH",
        "colab_type": "text"
      },
      "source": [
        "The opposite pattern holds for internet social media: It's great to work for Facebook. But there seems to be a Facebook backlash among consumers. Faceback's ACSI score is even worse than Twitter's."
      ]
    },
    {
      "cell_type": "code",
      "metadata": {
        "id": "emqwBB3Yl_pF",
        "colab_type": "code",
        "outputId": "0f758f5c-5deb-4cdd-aa05-f17b7decf4a8",
        "colab": {
          "base_uri": "https://localhost:8080/",
          "height": 198
        }
      },
      "source": [
        "ISM = ratings[ratings['Industry'] == 'Internet Social Media']\n",
        "ISM.iloc[:,0:4].sort_values('Customer Satisfaction', ascending=False)"
      ],
      "execution_count": 0,
      "outputs": [
        {
          "output_type": "execute_result",
          "data": {
            "text/html": [
              "<div>\n",
              "<style scoped>\n",
              "    .dataframe tbody tr th:only-of-type {\n",
              "        vertical-align: middle;\n",
              "    }\n",
              "\n",
              "    .dataframe tbody tr th {\n",
              "        vertical-align: top;\n",
              "    }\n",
              "\n",
              "    .dataframe thead th {\n",
              "        text-align: right;\n",
              "    }\n",
              "</style>\n",
              "<table border=\"1\" class=\"dataframe\">\n",
              "  <thead>\n",
              "    <tr style=\"text-align: right;\">\n",
              "      <th></th>\n",
              "      <th>Industry</th>\n",
              "      <th>Company</th>\n",
              "      <th>Customer Satisfaction</th>\n",
              "      <th>Overall Employee</th>\n",
              "    </tr>\n",
              "  </thead>\n",
              "  <tbody>\n",
              "    <tr>\n",
              "      <th>124</th>\n",
              "      <td>Internet Social Media</td>\n",
              "      <td>Pinterest</td>\n",
              "      <td>80</td>\n",
              "      <td>4.1</td>\n",
              "    </tr>\n",
              "    <tr>\n",
              "      <th>127</th>\n",
              "      <td>Internet Social Media</td>\n",
              "      <td>Wikipedia</td>\n",
              "      <td>74</td>\n",
              "      <td>3.6</td>\n",
              "    </tr>\n",
              "    <tr>\n",
              "      <th>125</th>\n",
              "      <td>Internet Social Media</td>\n",
              "      <td>Snapchat</td>\n",
              "      <td>71</td>\n",
              "      <td>3.4</td>\n",
              "    </tr>\n",
              "    <tr>\n",
              "      <th>126</th>\n",
              "      <td>Internet Social Media</td>\n",
              "      <td>Twitter</td>\n",
              "      <td>69</td>\n",
              "      <td>4.0</td>\n",
              "    </tr>\n",
              "    <tr>\n",
              "      <th>123</th>\n",
              "      <td>Internet Social Media</td>\n",
              "      <td>Facebook</td>\n",
              "      <td>63</td>\n",
              "      <td>4.4</td>\n",
              "    </tr>\n",
              "  </tbody>\n",
              "</table>\n",
              "</div>"
            ],
            "text/plain": [
              "                  Industry    Company  Customer Satisfaction  Overall Employee\n",
              "124  Internet Social Media  Pinterest                     80               4.1\n",
              "127  Internet Social Media  Wikipedia                     74               3.6\n",
              "125  Internet Social Media   Snapchat                     71               3.4\n",
              "126  Internet Social Media    Twitter                     69               4.0\n",
              "123  Internet Social Media   Facebook                     63               4.4"
            ]
          },
          "metadata": {
            "tags": []
          },
          "execution_count": 8
        }
      ]
    },
    {
      "cell_type": "markdown",
      "metadata": {
        "id": "VD5bk347pWgV",
        "colab_type": "text"
      },
      "source": [
        "The worst industry to work in is Department and Discount Stores. Customers aren't crazy about them either."
      ]
    },
    {
      "cell_type": "code",
      "metadata": {
        "id": "SiYI4Z1vpyh-",
        "colab_type": "code",
        "outputId": "e5168f46-a327-4e7c-eda5-eaf912febaed",
        "colab": {
          "base_uri": "https://localhost:8080/",
          "height": 263
        }
      },
      "source": [
        "Discount_stores = ratings[ratings['Industry'] == 'Department and Discount Stores']\n",
        "Discount_stores.iloc[:,0:4].sort_values('Customer Satisfaction', ascending=False)"
      ],
      "execution_count": 0,
      "outputs": [
        {
          "output_type": "execute_result",
          "data": {
            "text/html": [
              "<div>\n",
              "<style scoped>\n",
              "    .dataframe tbody tr th:only-of-type {\n",
              "        vertical-align: middle;\n",
              "    }\n",
              "\n",
              "    .dataframe tbody tr th {\n",
              "        vertical-align: top;\n",
              "    }\n",
              "\n",
              "    .dataframe thead th {\n",
              "        text-align: right;\n",
              "    }\n",
              "</style>\n",
              "<table border=\"1\" class=\"dataframe\">\n",
              "  <thead>\n",
              "    <tr style=\"text-align: right;\">\n",
              "      <th></th>\n",
              "      <th>Industry</th>\n",
              "      <th>Company</th>\n",
              "      <th>Customer Satisfaction</th>\n",
              "      <th>Overall Employee</th>\n",
              "    </tr>\n",
              "  </thead>\n",
              "  <tbody>\n",
              "    <tr>\n",
              "      <th>42</th>\n",
              "      <td>Department and Discount Stores</td>\n",
              "      <td>Belk</td>\n",
              "      <td>78</td>\n",
              "      <td>2.9</td>\n",
              "    </tr>\n",
              "    <tr>\n",
              "      <th>44</th>\n",
              "      <td>Department and Discount Stores</td>\n",
              "      <td>Dillard's</td>\n",
              "      <td>78</td>\n",
              "      <td>2.8</td>\n",
              "    </tr>\n",
              "    <tr>\n",
              "      <th>47</th>\n",
              "      <td>Department and Discount Stores</td>\n",
              "      <td>JCPenney</td>\n",
              "      <td>78</td>\n",
              "      <td>3.2</td>\n",
              "    </tr>\n",
              "    <tr>\n",
              "      <th>46</th>\n",
              "      <td>Department and Discount Stores</td>\n",
              "      <td>Dollar Tree</td>\n",
              "      <td>77</td>\n",
              "      <td>2.9</td>\n",
              "    </tr>\n",
              "    <tr>\n",
              "      <th>48</th>\n",
              "      <td>Department and Discount Stores</td>\n",
              "      <td>Ross Stores</td>\n",
              "      <td>76</td>\n",
              "      <td>3.2</td>\n",
              "    </tr>\n",
              "    <tr>\n",
              "      <th>43</th>\n",
              "      <td>Department and Discount Stores</td>\n",
              "      <td>Big Lots</td>\n",
              "      <td>73</td>\n",
              "      <td>3.1</td>\n",
              "    </tr>\n",
              "    <tr>\n",
              "      <th>45</th>\n",
              "      <td>Department and Discount Stores</td>\n",
              "      <td>Dollar General</td>\n",
              "      <td>73</td>\n",
              "      <td>2.7</td>\n",
              "    </tr>\n",
              "  </tbody>\n",
              "</table>\n",
              "</div>"
            ],
            "text/plain": [
              "                          Industry  ... Overall Employee\n",
              "42  Department and Discount Stores  ...              2.9\n",
              "44  Department and Discount Stores  ...              2.8\n",
              "47  Department and Discount Stores  ...              3.2\n",
              "46  Department and Discount Stores  ...              2.9\n",
              "48  Department and Discount Stores  ...              3.2\n",
              "43  Department and Discount Stores  ...              3.1\n",
              "45  Department and Discount Stores  ...              2.7\n",
              "\n",
              "[7 rows x 4 columns]"
            ]
          },
          "metadata": {
            "tags": []
          },
          "execution_count": 12
        }
      ]
    },
    {
      "cell_type": "markdown",
      "metadata": {
        "id": "lIlUT3bjsdHh",
        "colab_type": "text"
      },
      "source": [
        "# Do happy employees beget happy customers?"
      ]
    },
    {
      "cell_type": "markdown",
      "metadata": {
        "id": "fA4LMAVNheZB",
        "colab_type": "text"
      },
      "source": [
        "Now it's time to test the idea that when employees are happy, customers are happy too. To what extent is customer satisfaction correlated with employee satisfaction? First we'll look at how customer satisfacton correlates with all five Glassdoor ratings."
      ]
    },
    {
      "cell_type": "code",
      "metadata": {
        "id": "BGz2AgzSiJfY",
        "colab_type": "code",
        "outputId": "e90fb75f-88b7-41ff-95c9-c9a61def2e18",
        "colab": {
          "base_uri": "https://localhost:8080/",
          "height": 173
        }
      },
      "source": [
        "# p-value method from https://stackoverflow.com/questions/25571882/pandas-columns-correlation-with-statistical-significance\n",
        "\n",
        "overall = pearsonr(ratings['Customer Satisfaction'], ratings['Overall Employee']) # 1st value is correlation, 2nd is p-value\n",
        "comp = pearsonr(ratings['Customer Satisfaction'], ratings['Comp & Benefits'])\n",
        "values = pearsonr(ratings['Customer Satisfaction'], ratings['Culture & Values'])\n",
        "growth = pearsonr(ratings['Customer Satisfaction'], ratings['Career Opportunities'])\n",
        "balance = pearsonr(ratings['Customer Satisfaction'], ratings['Work-Life Balance'])\n",
        "\n",
        "print('Correlation of Customer Love with:\\n')\n",
        "print('Employee Satisfaction ',overall)\n",
        "print('Comp/Benefits ',comp)\n",
        "print('Culture/Values ',values)\n",
        "print('Career Opportunities ',growth)\n",
        "print('Work-Life Balance ',balance)\n",
        "print('\\n(Correlation followed by p-value)')"
      ],
      "execution_count": 0,
      "outputs": [
        {
          "output_type": "stream",
          "text": [
            "Correlation of Customer Love with:\n",
            "\n",
            "Employee Satisfaction  (0.15115807526053038, 0.013068065882048648)\n",
            "Comp/Benefits  (-0.027966791523934435, 0.6479278153924193)\n",
            "Culture/Values  (0.22701610243946022, 0.00017323978078320968)\n",
            "Career Opportunities  (0.09896871715530155, 0.10531236242192746)\n",
            "Work-Life Balance  (0.10093144486818877, 0.09855272486215864)\n",
            "\n",
            "(Correlation followed by p-value)\n"
          ],
          "name": "stdout"
        }
      ]
    },
    {
      "cell_type": "markdown",
      "metadata": {
        "id": "jqiADCH9jebQ",
        "colab_type": "text"
      },
      "source": [
        "In general, the  correlations tend to be low and insignificant, but there's an exception: a relatively high (0.23) and very significant (0.02%) correlation between:\n",
        "\n",
        "*   how employees rate the company's culture and values\n",
        "*   how satisfied customers are\n",
        "\n",
        "This suggests that mission-driven companies which draw like-minded customers and employees do well on both dimensions. Take as an example the high customer and employee satisfaction scores of [Chick-fil-A](https://blog.lemonadestand.org/hiring-practices-chick-fil-someone-worked/), \"one of those baffling companies whose revenue is constantly increasing and whose employees always seem happy...Chick-fil-A founder S. Truett Cathy modeled his businesses after Biblical practices such as serving others before self, human compassion and having a day of rest.\"\n",
        "\n",
        "The only other significant correlation is between overall employee and overall customer satisfaction, at 0.15 with a p-value of 1.3% - significant but not high.\n",
        "\n",
        "\n",
        "\n"
      ]
    },
    {
      "cell_type": "code",
      "metadata": {
        "id": "vGorbyTADBVo",
        "colab_type": "code",
        "outputId": "22673d5f-6ab8-46d7-8dcd-ed0a46308858",
        "colab": {
          "base_uri": "https://localhost:8080/",
          "height": 225
        }
      },
      "source": [
        "print(ratings['Industry'].unique())"
      ],
      "execution_count": 0,
      "outputs": [
        {
          "output_type": "stream",
          "text": [
            "['Airlines' 'Apparel' 'Automobiles and Light Vehicles' 'Banks'\n",
            " 'Consumer Shipping' 'Department and Discount Stores' 'Financial Advisors'\n",
            " 'Food Manufacturing' 'Full-Service Restaurants' 'Health Insurance'\n",
            " 'Hotels' 'Household Appliances' 'Internet Investment Services'\n",
            " 'Internet News and Opinion' 'Internet Retail'\n",
            " 'Internet Service Providers' 'Internet Social Media'\n",
            " 'Internet Travel Services' 'Investor-Owned Energy Utilities'\n",
            " 'Life Insurance' 'Limited-Service Restaurants'\n",
            " 'Personal Care and Cleaning Products' 'Personal Computers'\n",
            " 'Property and Casualty Insurance' 'Soft Drinks' 'Specialty Retail Stores'\n",
            " 'Supermarkets' 'Video Streaming Service' 'Video-on-Demand Service'\n",
            " 'Wireless Telephone Service']\n"
          ],
          "name": "stdout"
        }
      ]
    },
    {
      "cell_type": "code",
      "metadata": {
        "id": "fkSOTqecufkj",
        "colab_type": "code",
        "outputId": "1c91a031-6aca-4b25-f046-eede5c483457",
        "colab": {
          "base_uri": "https://localhost:8080/",
          "height": 262
        }
      },
      "source": [
        "# print('Correlation of customer satisfaction in',industry,'with:\\n')\n",
        "\n",
        "industries = ratings['Industry'].unique()\n",
        "overall = []\n",
        "comp = []\n",
        "values = []\n",
        "growth = []\n",
        "balance = []\n",
        "colnames = ['Employee Satisfaction', 'Comp/Benefits', 'Culture/Values', 'Career Opportunities', 'Work-Life Balance']\n",
        "\n",
        "for industry in industries:\n",
        "  subset = ratings[ ratings['Industry'] == industry ]\n",
        "  overall.append(pearsonr(subset['Customer Satisfaction'], subset['Overall Employee']))\n",
        "  comp.append(pearsonr(subset['Customer Satisfaction'], subset['Comp & Benefits']))\n",
        "  values.append(pearsonr(subset['Customer Satisfaction'], subset['Culture & Values']))\n",
        "  growth.append(pearsonr(subset['Customer Satisfaction'], subset['Career Opportunities']))\n",
        "  balance.append(pearsonr(subset['Customer Satisfaction'], subset['Work-Life Balance']))\n",
        "\n"
      ],
      "execution_count": 0,
      "outputs": [
        {
          "output_type": "stream",
          "text": [
            "['Airlines' 'Apparel' 'Automobiles and Light Vehicles' 'Banks'\n",
            " 'Consumer Shipping' 'Department and Discount Stores' 'Financial Advisors'\n",
            " 'Food Manufacturing' 'Full-Service Restaurants' 'Health Insurance'\n",
            " 'Hotels' 'Household Appliances' 'Internet Investment Services'\n",
            " 'Internet News and Opinion' 'Internet Retail'\n",
            " 'Internet Service Providers' 'Internet Social Media'\n",
            " 'Internet Travel Services' 'Investor-Owned Energy Utilities'\n",
            " 'Life Insurance' 'Limited-Service Restaurants'\n",
            " 'Personal Care and Cleaning Products' 'Personal Computers'\n",
            " 'Property and Casualty Insurance' 'Soft Drinks' 'Specialty Retail Stores'\n",
            " 'Supermarkets' 'Video Streaming Service' 'Video-on-Demand Service'\n",
            " 'Wireless Telephone Service']\n",
            "[(0.5342726796318955, 0.17254735692013481), (-0.6154085922124884, 0.38459140778751155), (-0.07568671778559818, 0.7970564427218034), (0.16783218203174274, 0.5836456113148967), (0.970725343394151, 0.15442095831126657), (0.12220220333713938, 0.7940886365731493), (0.49709581280096055, 0.3942076356557428), (-0.010646856391505193, 0.9767126415146257), (0.6045665272499433, 0.048806858730603704), (-0.12205795890857749, 0.8178222802425639), (0.7005157894998126, 0.05297256198705482), (0.06333004963811247, 0.9194196088526024), (-0.6123724356957945, 0.19626117814926977), (0.1765246970284008, 0.7049695836330372), (0.4566112933547008, 0.1167698443000475), (0.987829161147262, 0.09942528405141167), (-0.32900135153670335, 0.5887872200613098), (0.5960395606792703, 0.5934802716263389), (0.04646549312765318, 0.8254413367109519), (0.33534681002388744, 0.5811667049181711), (0.26529866326125423, 0.3392572233242728), (-0.6858006858010287, 0.13257274547553757), (0.1642545761087622, 0.6728154591383533), (0.23025455105234338, 0.5832893177929098), (-0.5, 0.6666666666666667), (0.3295712518060936, 0.10014565426405492), (0.6671662216214679, 0.001805860604886177), (0.23559352809054723, 0.4855583356623319), (-0.41263432434118846, 0.48993294464828385), (-0.13935062467226475, 0.7923270597745969)]\n"
          ],
          "name": "stdout"
        }
      ]
    },
    {
      "cell_type": "code",
      "metadata": {
        "id": "WVhfFEpaVc2N",
        "colab_type": "code",
        "outputId": "272deec6-3f78-4074-b933-61f9e8122760",
        "colab": {
          "base_uri": "https://localhost:8080/",
          "height": 1000
        }
      },
      "source": [
        "industries = ratings['Industry'].unique()\n",
        "overall = []\n",
        "comp = []\n",
        "values = []\n",
        "growth = []\n",
        "balance = []\n",
        "colnames = ['Name', 'Employee Satisfaction', 'Comp/Benefits', 'Culture/Values', 'Career Opportunities', 'Work-Life Balance']\n",
        "\n",
        "_ = []\n",
        "for industry in industries:\n",
        "  subset = ratings[ ratings['Industry'] == industry ]\n",
        "  all_ = []\n",
        "  all_.append(industry)\n",
        "  all_.append(pearsonr(subset['Customer Satisfaction'], subset['Overall Employee']))\n",
        "  all_.append(pearsonr(subset['Customer Satisfaction'], subset['Comp & Benefits']))\n",
        "  all_.append(pearsonr(subset['Customer Satisfaction'], subset['Culture & Values']))\n",
        "  all_.append(pearsonr(subset['Customer Satisfaction'], subset['Career Opportunities']))\n",
        "  all_.append(pearsonr(subset['Customer Satisfaction'], subset['Work-Life Balance']))\n",
        "\n",
        "  # print(industry)\n",
        "  # print(dict(zip(colnames, all_)))\n",
        "  _.append(dict(zip(colnames, all_)))\n",
        "\n",
        "pd.DataFrame(_).set_index('Name')"
      ],
      "execution_count": 0,
      "outputs": [
        {
          "output_type": "execute_result",
          "data": {
            "text/html": [
              "<div>\n",
              "<style scoped>\n",
              "    .dataframe tbody tr th:only-of-type {\n",
              "        vertical-align: middle;\n",
              "    }\n",
              "\n",
              "    .dataframe tbody tr th {\n",
              "        vertical-align: top;\n",
              "    }\n",
              "\n",
              "    .dataframe thead th {\n",
              "        text-align: right;\n",
              "    }\n",
              "</style>\n",
              "<table border=\"1\" class=\"dataframe\">\n",
              "  <thead>\n",
              "    <tr style=\"text-align: right;\">\n",
              "      <th></th>\n",
              "      <th>Employee Satisfaction</th>\n",
              "      <th>Comp/Benefits</th>\n",
              "      <th>Culture/Values</th>\n",
              "      <th>Career Opportunities</th>\n",
              "      <th>Work-Life Balance</th>\n",
              "    </tr>\n",
              "    <tr>\n",
              "      <th>Name</th>\n",
              "      <th></th>\n",
              "      <th></th>\n",
              "      <th></th>\n",
              "      <th></th>\n",
              "      <th></th>\n",
              "    </tr>\n",
              "  </thead>\n",
              "  <tbody>\n",
              "    <tr>\n",
              "      <th>Airlines</th>\n",
              "      <td>(0.5342726796318955, 0.17254735692013481)</td>\n",
              "      <td>(0.5007880145590673, 0.20620101428205484)</td>\n",
              "      <td>(0.5143674310194074, 0.1921692691706612)</td>\n",
              "      <td>(0.33503055234668133, 0.41724189256413013)</td>\n",
              "      <td>(0.26572707649784233, 0.5247189268209592)</td>\n",
              "    </tr>\n",
              "    <tr>\n",
              "      <th>Apparel</th>\n",
              "      <td>(-0.6154085922124884, 0.38459140778751155)</td>\n",
              "      <td>(-0.9072647087265546, 0.09273529127344537)</td>\n",
              "      <td>(-0.9112199242344023, 0.08878007576559765)</td>\n",
              "      <td>(-0.03960590171906696, 0.960394098280933)</td>\n",
              "      <td>(-0.9934991184909866, 0.006500881509013401)</td>\n",
              "    </tr>\n",
              "    <tr>\n",
              "      <th>Automobiles and Light Vehicles</th>\n",
              "      <td>(-0.07568671778559818, 0.7970564427218034)</td>\n",
              "      <td>(0.07891099463498985, 0.7885859225433759)</td>\n",
              "      <td>(0.41101098906372213, 0.1443090799432911)</td>\n",
              "      <td>(0.06160216450808698, 0.8342909281160382)</td>\n",
              "      <td>(0.017479012331591604, 0.9527078516682966)</td>\n",
              "    </tr>\n",
              "    <tr>\n",
              "      <th>Banks</th>\n",
              "      <td>(0.16783218203174274, 0.5836456113148967)</td>\n",
              "      <td>(0.03447620015767168, 0.9109723521072745)</td>\n",
              "      <td>(0.06611651533678845, 0.8300795959441855)</td>\n",
              "      <td>(0.04437350354615942, 0.8855485435076916)</td>\n",
              "      <td>(-0.36592585659455357, 0.21883305480622903)</td>\n",
              "    </tr>\n",
              "    <tr>\n",
              "      <th>Consumer Shipping</th>\n",
              "      <td>(0.970725343394151, 0.15442095831126657)</td>\n",
              "      <td>(0.4999999999999999, 0.6666666666666669)</td>\n",
              "      <td>(0.924473451641905, 0.24901011701138961)</td>\n",
              "      <td>(0.9819805060619656, 0.12103771832367703)</td>\n",
              "      <td>(0.7205766921228921, 0.48775429164459994)</td>\n",
              "    </tr>\n",
              "    <tr>\n",
              "      <th>Department and Discount Stores</th>\n",
              "      <td>(0.12220220333713938, 0.7940886365731493)</td>\n",
              "      <td>(0.17901234567901236, 0.7009450216131241)</td>\n",
              "      <td>(-0.06846531968814566, 0.8840418865762327)</td>\n",
              "      <td>(-0.2471345758397605, 0.5931451415821032)</td>\n",
              "      <td>(0.1423611111111114, 0.760761832071501)</td>\n",
              "    </tr>\n",
              "    <tr>\n",
              "      <th>Financial Advisors</th>\n",
              "      <td>(0.49709581280096055, 0.3942076356557428)</td>\n",
              "      <td>(0.12427395320023932, 0.8421777229117249)</td>\n",
              "      <td>(0.5875696513930031, 0.29749141458225287)</td>\n",
              "      <td>(0.4482107285003972, 0.4490496174607337)</td>\n",
              "      <td>(-0.2857142857142857, 0.6412291434824168)</td>\n",
              "    </tr>\n",
              "    <tr>\n",
              "      <th>Food Manufacturing</th>\n",
              "      <td>(-0.010646856391505193, 0.9767126415146257)</td>\n",
              "      <td>(0.2491364395612199, 0.48759961684241454)</td>\n",
              "      <td>(0.5780150365591531, 0.08008611409050591)</td>\n",
              "      <td>(-0.11868485247830952, 0.7440031561713347)</td>\n",
              "      <td>(0.1408375487424962, 0.697956354754501)</td>\n",
              "    </tr>\n",
              "    <tr>\n",
              "      <th>Full-Service Restaurants</th>\n",
              "      <td>(0.6045665272499433, 0.048806858730603704)</td>\n",
              "      <td>(0.5160625452783165, 0.10415193672842604)</td>\n",
              "      <td>(0.7672209627334934, 0.005851621342890899)</td>\n",
              "      <td>(0.7332348418708248, 0.010240703328990844)</td>\n",
              "      <td>(0.5847632126364477, 0.05882036390912823)</td>\n",
              "    </tr>\n",
              "    <tr>\n",
              "      <th>Health Insurance</th>\n",
              "      <td>(-0.12205795890857749, 0.8178222802425639)</td>\n",
              "      <td>(0.1685424105399146, 0.7495802379032538)</td>\n",
              "      <td>(-0.18686164902230923, 0.7229698763412524)</td>\n",
              "      <td>(-0.0228874303561582, 0.9656748490782183)</td>\n",
              "      <td>(-0.40316473806629827, 0.42801845522500426)</td>\n",
              "    </tr>\n",
              "    <tr>\n",
              "      <th>Hotels</th>\n",
              "      <td>(0.7005157894998126, 0.05297256198705482)</td>\n",
              "      <td>(0.5750952689274628, 0.13586110267581553)</td>\n",
              "      <td>(0.6585279675652266, 0.0757897665958594)</td>\n",
              "      <td>(0.778781306125652, 0.02277307812604178)</td>\n",
              "      <td>(0.4430450863460945, 0.27159519087396045)</td>\n",
              "    </tr>\n",
              "    <tr>\n",
              "      <th>Household Appliances</th>\n",
              "      <td>(0.06333004963811247, 0.9194196088526024)</td>\n",
              "      <td>(-0.6938042055710482, 0.19377790157905972)</td>\n",
              "      <td>(0.12147816447594395, 0.8457104551013456)</td>\n",
              "      <td>(0.2215194073920739, 0.7202767307664667)</td>\n",
              "      <td>(0.6978319376708537, 0.19009469629052575)</td>\n",
              "    </tr>\n",
              "    <tr>\n",
              "      <th>Internet Investment Services</th>\n",
              "      <td>(-0.6123724356957945, 0.19626117814926977)</td>\n",
              "      <td>(-0.7431505414602931, 0.09048507596280018)</td>\n",
              "      <td>(-0.5604485383178051, 0.24734635398987082)</td>\n",
              "      <td>(-0.510616895268758, 0.3006411300315778)</td>\n",
              "      <td>(-0.5317050689751145, 0.2776016411003992)</td>\n",
              "    </tr>\n",
              "    <tr>\n",
              "      <th>Internet News and Opinion</th>\n",
              "      <td>(0.1765246970284008, 0.7049695836330372)</td>\n",
              "      <td>(-0.7155551905822715, 0.07060686511319961)</td>\n",
              "      <td>(-0.016287251933972346, 0.9723535696381596)</td>\n",
              "      <td>(-0.15259145190224108, 0.7439579912325748)</td>\n",
              "      <td>(0.9152183845864252, 0.0038387714641431813)</td>\n",
              "    </tr>\n",
              "    <tr>\n",
              "      <th>Internet Retail</th>\n",
              "      <td>(0.4566112933547008, 0.1167698443000475)</td>\n",
              "      <td>(0.5113700638395945, 0.07407664781368797)</td>\n",
              "      <td>(0.5363203373996637, 0.05882960973710432)</td>\n",
              "      <td>(0.44259092857145327, 0.12989901096455714)</td>\n",
              "      <td>(0.39318813371072464, 0.18381001994289053)</td>\n",
              "    </tr>\n",
              "    <tr>\n",
              "      <th>Internet Service Providers</th>\n",
              "      <td>(0.987829161147262, 0.09942528405141167)</td>\n",
              "      <td>(0.9938704728455046, 0.07052298596419658)</td>\n",
              "      <td>(0.8824975032927699, 0.3117208990610687)</td>\n",
              "      <td>(0.9215506405654285, 0.253846242362678)</td>\n",
              "      <td>(-0.9878291611472618, 0.09942528405141257)</td>\n",
              "    </tr>\n",
              "    <tr>\n",
              "      <th>Internet Social Media</th>\n",
              "      <td>(-0.32900135153670335, 0.5887872200613098)</td>\n",
              "      <td>(-0.8313316563151629, 0.08101761576582393)</td>\n",
              "      <td>(-0.1506699119156834, 0.8088894377811665)</td>\n",
              "      <td>(-0.4478809188415727, 0.44942503637590187)</td>\n",
              "      <td>(0.48706216424525145, 0.40532904506560474)</td>\n",
              "    </tr>\n",
              "    <tr>\n",
              "      <th>Internet Travel Services</th>\n",
              "      <td>(0.5960395606792703, 0.5934802716263389)</td>\n",
              "      <td>(0.8660254037844387, 0.3333333333333333)</td>\n",
              "      <td>(-0.8660254037844386, 0.3333333333333335)</td>\n",
              "      <td>(0.0, 1.0000000000000002)</td>\n",
              "      <td>(-0.981980506061966, 0.12103771832367591)</td>\n",
              "    </tr>\n",
              "    <tr>\n",
              "      <th>Investor-Owned Energy Utilities</th>\n",
              "      <td>(0.04646549312765318, 0.8254413367109519)</td>\n",
              "      <td>(-0.01178972181807746, 0.9553956534983946)</td>\n",
              "      <td>(-0.008602949954469802, 0.9674448441872269)</td>\n",
              "      <td>(0.049707436455165115, 0.8134648368034411)</td>\n",
              "      <td>(-0.04242081447963799, 0.8404363524398097)</td>\n",
              "    </tr>\n",
              "    <tr>\n",
              "      <th>Life Insurance</th>\n",
              "      <td>(0.33534681002388744, 0.5811667049181711)</td>\n",
              "      <td>(-0.08908708063747478, 0.8867210237493972)</td>\n",
              "      <td>(0.9168894559922716, 0.028400663677688637)</td>\n",
              "      <td>(0.9569401057723365, 0.010656587354152073)</td>\n",
              "      <td>(0.3049687727964162, 0.6178076004471255)</td>\n",
              "    </tr>\n",
              "    <tr>\n",
              "      <th>Limited-Service Restaurants</th>\n",
              "      <td>(0.26529866326125423, 0.3392572233242728)</td>\n",
              "      <td>(0.05012452780274962, 0.8591943339555417)</td>\n",
              "      <td>(0.25103709487823234, 0.36679717293327335)</td>\n",
              "      <td>(-0.012303806180579888, 0.9652874070133032)</td>\n",
              "      <td>(0.17298531361823677, 0.5375493065895638)</td>\n",
              "    </tr>\n",
              "    <tr>\n",
              "      <th>Personal Care and Cleaning Products</th>\n",
              "      <td>(-0.6858006858010287, 0.13257274547553757)</td>\n",
              "      <td>(-0.13955847253041068, 0.7920213511925072)</td>\n",
              "      <td>(-0.6133632981859944, 0.19533314689979622)</td>\n",
              "      <td>(-0.9003661402650394, 0.014395831028242398)</td>\n",
              "      <td>(-0.19189289972931395, 0.7156936754923418)</td>\n",
              "    </tr>\n",
              "    <tr>\n",
              "      <th>Personal Computers</th>\n",
              "      <td>(0.1642545761087622, 0.6728154591383533)</td>\n",
              "      <td>(0.5431588641678767, 0.13071588179302351)</td>\n",
              "      <td>(0.141642846359302, 0.716228395602708)</td>\n",
              "      <td>(-0.01090858606059171, 0.9777794145517912)</td>\n",
              "      <td>(-0.34029444426969946, 0.3702184452000107)</td>\n",
              "    </tr>\n",
              "    <tr>\n",
              "      <th>Property and Casualty Insurance</th>\n",
              "      <td>(0.23025455105234338, 0.5832893177929098)</td>\n",
              "      <td>(-0.03448603925609048, 0.9353899253469463)</td>\n",
              "      <td>(-0.2101487998216613, 0.6174181783870253)</td>\n",
              "      <td>(0.012197843367986544, 0.9771313121902513)</td>\n",
              "      <td>(-0.015267620413811411, 0.9713776600203596)</td>\n",
              "    </tr>\n",
              "    <tr>\n",
              "      <th>Soft Drinks</th>\n",
              "      <td>(-0.5, 0.6666666666666667)</td>\n",
              "      <td>(-0.7559289460184537, 0.45437105165701086)</td>\n",
              "      <td>(-0.6286185570937121, 0.5672413826152549)</td>\n",
              "      <td>(0.18898223650461307, 0.8789622816763237)</td>\n",
              "      <td>(-0.9707253433941512, 0.15442095831126598)</td>\n",
              "    </tr>\n",
              "    <tr>\n",
              "      <th>Specialty Retail Stores</th>\n",
              "      <td>(0.3295712518060936, 0.10014565426405492)</td>\n",
              "      <td>(0.3695837485065988, 0.0631340824993307)</td>\n",
              "      <td>(0.3595447174840181, 0.0712256466838324)</td>\n",
              "      <td>(0.19256264502635612, 0.3459613503516609)</td>\n",
              "      <td>(0.2946699810770828, 0.143931327073981)</td>\n",
              "    </tr>\n",
              "    <tr>\n",
              "      <th>Supermarkets</th>\n",
              "      <td>(0.6671662216214679, 0.001805860604886177)</td>\n",
              "      <td>(0.6332283782980801, 0.003609917778355026)</td>\n",
              "      <td>(0.6505535462109099, 0.002560911067746663)</td>\n",
              "      <td>(0.6520295153987742, 0.0024847006273101165)</td>\n",
              "      <td>(0.41677207771567815, 0.07587619764772362)</td>\n",
              "    </tr>\n",
              "    <tr>\n",
              "      <th>Video Streaming Service</th>\n",
              "      <td>(0.23559352809054723, 0.4855583356623319)</td>\n",
              "      <td>(0.5790558567071191, 0.061946791770725304)</td>\n",
              "      <td>(0.31383125700978126, 0.34730653466699196)</td>\n",
              "      <td>(0.34302252159137475, 0.30173061278911456)</td>\n",
              "      <td>(-0.1987097369702529, 0.5580519396557158)</td>\n",
              "    </tr>\n",
              "    <tr>\n",
              "      <th>Video-on-Demand Service</th>\n",
              "      <td>(-0.41263432434118846, 0.48993294464828385)</td>\n",
              "      <td>(-0.6176029068009109, 0.26697704391410737)</td>\n",
              "      <td>(-0.37819945249913667, 0.5302007936347953)</td>\n",
              "      <td>(-0.1676183361258127, 0.7875853239822543)</td>\n",
              "      <td>(-0.1247417147363445, 0.8415867848050107)</td>\n",
              "    </tr>\n",
              "    <tr>\n",
              "      <th>Wireless Telephone Service</th>\n",
              "      <td>(-0.13935062467226475, 0.7923270597745969)</td>\n",
              "      <td>(-0.23712183745757476, 0.650983540823946)</td>\n",
              "      <td>(-0.031124831451652242, 0.9533278289926364)</td>\n",
              "      <td>(-0.3193195101283237, 0.5373004336775724)</td>\n",
              "      <td>(-0.05338289303616169, 0.9200017239488952)</td>\n",
              "    </tr>\n",
              "  </tbody>\n",
              "</table>\n",
              "</div>"
            ],
            "text/plain": [
              "                                                           Employee Satisfaction  ...                            Work-Life Balance\n",
              "Name                                                                              ...                                             \n",
              "Airlines                               (0.5342726796318955, 0.17254735692013481)  ...    (0.26572707649784233, 0.5247189268209592)\n",
              "Apparel                               (-0.6154085922124884, 0.38459140778751155)  ...  (-0.9934991184909866, 0.006500881509013401)\n",
              "Automobiles and Light Vehicles        (-0.07568671778559818, 0.7970564427218034)  ...   (0.017479012331591604, 0.9527078516682966)\n",
              "Banks                                  (0.16783218203174274, 0.5836456113148967)  ...  (-0.36592585659455357, 0.21883305480622903)\n",
              "Consumer Shipping                       (0.970725343394151, 0.15442095831126657)  ...    (0.7205766921228921, 0.48775429164459994)\n",
              "Department and Discount Stores         (0.12220220333713938, 0.7940886365731493)  ...      (0.1423611111111114, 0.760761832071501)\n",
              "Financial Advisors                     (0.49709581280096055, 0.3942076356557428)  ...    (-0.2857142857142857, 0.6412291434824168)\n",
              "Food Manufacturing                   (-0.010646856391505193, 0.9767126415146257)  ...      (0.1408375487424962, 0.697956354754501)\n",
              "Full-Service Restaurants              (0.6045665272499433, 0.048806858730603704)  ...    (0.5847632126364477, 0.05882036390912823)\n",
              "Health Insurance                      (-0.12205795890857749, 0.8178222802425639)  ...  (-0.40316473806629827, 0.42801845522500426)\n",
              "Hotels                                 (0.7005157894998126, 0.05297256198705482)  ...    (0.4430450863460945, 0.27159519087396045)\n",
              "Household Appliances                   (0.06333004963811247, 0.9194196088526024)  ...    (0.6978319376708537, 0.19009469629052575)\n",
              "Internet Investment Services          (-0.6123724356957945, 0.19626117814926977)  ...    (-0.5317050689751145, 0.2776016411003992)\n",
              "Internet News and Opinion               (0.1765246970284008, 0.7049695836330372)  ...  (0.9152183845864252, 0.0038387714641431813)\n",
              "Internet Retail                         (0.4566112933547008, 0.1167698443000475)  ...   (0.39318813371072464, 0.18381001994289053)\n",
              "Internet Service Providers              (0.987829161147262, 0.09942528405141167)  ...   (-0.9878291611472618, 0.09942528405141257)\n",
              "Internet Social Media                 (-0.32900135153670335, 0.5887872200613098)  ...   (0.48706216424525145, 0.40532904506560474)\n",
              "Internet Travel Services                (0.5960395606792703, 0.5934802716263389)  ...    (-0.981980506061966, 0.12103771832367591)\n",
              "Investor-Owned Energy Utilities        (0.04646549312765318, 0.8254413367109519)  ...   (-0.04242081447963799, 0.8404363524398097)\n",
              "Life Insurance                         (0.33534681002388744, 0.5811667049181711)  ...     (0.3049687727964162, 0.6178076004471255)\n",
              "Limited-Service Restaurants            (0.26529866326125423, 0.3392572233242728)  ...    (0.17298531361823677, 0.5375493065895638)\n",
              "Personal Care and Cleaning Products   (-0.6858006858010287, 0.13257274547553757)  ...   (-0.19189289972931395, 0.7156936754923418)\n",
              "Personal Computers                      (0.1642545761087622, 0.6728154591383533)  ...   (-0.34029444426969946, 0.3702184452000107)\n",
              "Property and Casualty Insurance        (0.23025455105234338, 0.5832893177929098)  ...  (-0.015267620413811411, 0.9713776600203596)\n",
              "Soft Drinks                                           (-0.5, 0.6666666666666667)  ...   (-0.9707253433941512, 0.15442095831126598)\n",
              "Specialty Retail Stores                (0.3295712518060936, 0.10014565426405492)  ...      (0.2946699810770828, 0.143931327073981)\n",
              "Supermarkets                          (0.6671662216214679, 0.001805860604886177)  ...   (0.41677207771567815, 0.07587619764772362)\n",
              "Video Streaming Service                (0.23559352809054723, 0.4855583356623319)  ...    (-0.1987097369702529, 0.5580519396557158)\n",
              "Video-on-Demand Service              (-0.41263432434118846, 0.48993294464828385)  ...    (-0.1247417147363445, 0.8415867848050107)\n",
              "Wireless Telephone Service            (-0.13935062467226475, 0.7923270597745969)  ...   (-0.05338289303616169, 0.9200017239488952)\n",
              "\n",
              "[30 rows x 5 columns]"
            ]
          },
          "metadata": {
            "tags": []
          },
          "execution_count": 100
        }
      ]
    },
    {
      "cell_type": "markdown",
      "metadata": {
        "id": "4HZCM2hgpIuX",
        "colab_type": "text"
      },
      "source": [
        "# Scatterplots"
      ]
    },
    {
      "cell_type": "code",
      "metadata": {
        "id": "pkk0rkACpT9a",
        "colab_type": "code",
        "colab": {}
      },
      "source": [
        "ratings['ACSI'] = ratings['Customer Satisfaction'] + ratings['Random Big']\n",
        "ACSI_mean = ratings['Customer Satisfaction'].mean()\n",
        "ratings['GD'] = ratings['Overall Employee'] + ratings['Random Small']\n",
        "GD_mean = ratings['Overall Employee'].mean()\n",
        "\n",
        "def calculate_winner(row):\n",
        "  return row['Customer Satisfaction'] > ACSI_mean and row['Overall Employee'] > GD_mean\n",
        "\n",
        "ratings['Winner'] = ratings[['Customer Satisfaction', 'Overall Employee']].apply(calculate_winner, axis = 1)\n"
      ],
      "execution_count": 0,
      "outputs": []
    },
    {
      "cell_type": "markdown",
      "metadata": {
        "id": "RSmSlkt_wx6F",
        "colab_type": "text"
      },
      "source": [
        "# Who are the winners?\n",
        "Winners are companies with happy customers and happy employees. In the scatterplot 2x2, they're represented by the dots in the upper right quadrant. They have higher-than-average customer satisfaction ratings (which puts them in the top half) and higher-than-average employee satisfaction ratings (which puts them on the right side)."
      ]
    },
    {
      "cell_type": "code",
      "metadata": {
        "id": "e-oO51tGNOHu",
        "colab_type": "code",
        "outputId": "2fd0cbc8-507f-4bf7-8c10-7d36c51cd79f",
        "colab": {
          "base_uri": "https://localhost:8080/",
          "height": 402
        }
      },
      "source": [
        "fix, ax = plt.subplots(figsize=(8, 6))\n",
        "# plt.style.use('seaborn-whitegrid')\n",
        "y = ACSI\n",
        "x = GD\n",
        "sns.scatterplot(data=ratings, x='GD',y='ACSI', hue=\"Winner\", color='red', ax=ax);\n",
        "# sns.scatterplot(x, y, marker = 'o', hue=ratings['Loser'], color='red', ax=ax);\n",
        "ax.axvline(x=GD_mean)\n",
        "ax.axhline(y=ACSI_mean, linestyle='-')"
      ],
      "execution_count": 0,
      "outputs": [
        {
          "output_type": "execute_result",
          "data": {
            "text/plain": [
              "<matplotlib.lines.Line2D at 0x7f117f925f28>"
            ]
          },
          "metadata": {
            "tags": []
          },
          "execution_count": 43
        },
        {
          "output_type": "display_data",
          "data": {
            "image/png": "[encoded data removed]",
            "text/plain": [
              "<Figure size 576x432 with 1 Axes>"
            ]
          },
          "metadata": {
            "tags": []
          }
        }
      ]
    },
    {
      "cell_type": "markdown",
      "metadata": {
        "id": "75j2SlWTwktQ",
        "colab_type": "text"
      },
      "source": [
        "fff"
      ]
    },
    {
      "cell_type": "code",
      "metadata": {
        "id": "RGEBhWkRbHZy",
        "colab_type": "code",
        "colab": {}
      },
      "source": [
        "top_industries = ratings[ratings['Winner'] == True].groupby('Industry')[['Winner']].count().sort_values(by='Winner', ascending=False).head(4).index"
      ],
      "execution_count": 0,
      "outputs": []
    },
    {
      "cell_type": "code",
      "metadata": {
        "id": "Y9Ns47M7dvcN",
        "colab_type": "code",
        "outputId": "6445bc4e-4093-4e0a-9903-5880ddd56f75",
        "colab": {
          "base_uri": "https://localhost:8080/",
          "height": 69
        }
      },
      "source": [
        "top_industries"
      ],
      "execution_count": 0,
      "outputs": [
        {
          "output_type": "execute_result",
          "data": {
            "text/plain": [
              "Index(['Food Manufacturing', 'Supermarkets', 'Automobiles and Light Vehicles',\n",
              "       'Internet Retail'],\n",
              "      dtype='object', name='Industry')"
            ]
          },
          "metadata": {
            "tags": []
          },
          "execution_count": 90
        }
      ]
    },
    {
      "cell_type": "code",
      "metadata": {
        "id": "lY5vAWyKXy7F",
        "colab_type": "code",
        "outputId": "a383e213-f72f-46c5-893b-ab9b3ae37045",
        "colab": {
          "base_uri": "https://localhost:8080/",
          "height": 291
        }
      },
      "source": [
        "fix, axs = plt.subplots(ncols=4, figsize=(20,4))\n",
        "\n",
        "for index, industry in enumerate(top_industries):\n",
        "  subset = ratings[ ratings['Industry'] == industry ].copy()\n",
        "  subset['ACSI'] = subset['Customer Satisfaction'] + subset['Random Big']\n",
        "  ACSI_mean = subset['Customer Satisfaction'].mean()\n",
        "  subset['GD'] = subset['Overall Employee'] + subset['Random Small']\n",
        "  GD_mean = subset['Overall Employee'].mean()\n",
        "\n",
        "  def calculate_winner(row):\n",
        "    return row['Customer Satisfaction'] > ACSI_mean and row['Overall Employee'] > GD_mean\n",
        "\n",
        "  subset['Winner'] = subset[['Customer Satisfaction', 'Overall Employee']].apply(calculate_winner, axis = 1)\n",
        "  y = ACSI\n",
        "  x = GD\n",
        "  ax = axs[index]\n",
        "  ax.set_title(industry)\n",
        "  sns.scatterplot(data=subset, x='GD',y='ACSI', hue=\"Winner\", color='red', ax=ax);\n",
        "  ax.axvline(x=GD_mean)\n",
        "  ax.axhline(y=ACSI_mean, linestyle='-')\n"
      ],
      "execution_count": 0,
      "outputs": [
        {
          "output_type": "display_data",
          "data": {
            "image/png": "[encoded data removed]",
            "text/plain": [
              "<Figure size 1440x288 with 4 Axes>"
            ]
          },
          "metadata": {
            "tags": []
          }
        }
      ]
    },
    {
      "cell_type": "code",
      "metadata": {
        "id": "pSjRfrjecSbf",
        "colab_type": "code",
        "outputId": "b061c5f0-9817-4722-b0e4-b18fd3d50892",
        "colab": {
          "base_uri": "https://localhost:8080/",
          "height": 155
        }
      },
      "source": [
        "for industry in top_industries:\n",
        "  subset = ratings[ (ratings['Industry'] == industry) & (ratings['Winner'] == True)]\n",
        "  print(industry)\n",
        "  print(list(subset['Company']))"
      ],
      "execution_count": 0,
      "outputs": [
        {
          "output_type": "stream",
          "text": [
            "Food Manufacturing\n",
            "['Conagra', 'Dole', 'General Mills', 'Hershey', 'Kellogg', 'Mars', 'Tyson']\n",
            "Supermarkets\n",
            "['Costco', 'HEB', 'Hy-Vee', 'Publix', \"Trader Joe's\", 'Wegmans']\n",
            "Automobiles and Light Vehicles\n",
            "['BMW', 'GM', 'Honda', 'Mercedes-Benz', 'Toyota', 'Volvo']\n",
            "Internet Retail\n",
            "['eBay', 'Etsy', 'HP Store', 'Nike', 'Nordstrom']\n"
          ],
          "name": "stdout"
        }
      ]
    },
    {
      "cell_type": "markdown",
      "metadata": {
        "id": "ZqGXv2vmPz04",
        "colab_type": "text"
      },
      "source": [
        "# Who are the winners?\n",
        "Winners are companies with happy customers and happy employees. In the scatterplot 2x2, they're represented by the dots in the upper right quadrant. They have higher-than-average customer satisfaction ratings (which puts them in the top half) and higher-than-average employee satisfaction ratings (which puts them on the right side).\n"
      ]
    },
    {
      "cell_type": "code",
      "metadata": {
        "id": "1myn8-mRQtp8",
        "colab_type": "code",
        "colab": {}
      },
      "source": [
        "ratings[ratings['Winner']]"
      ],
      "execution_count": 0,
      "outputs": []
    },
    {
      "cell_type": "markdown",
      "metadata": {
        "id": "x7F-IPUDRmDr",
        "colab_type": "text"
      },
      "source": [
        "The losers are in the lower left. Their customers wouldn't shop there if they had a better alternative. Their employees aren't crazy about working there either. "
      ]
    },
    {
      "cell_type": "code",
      "metadata": {
        "id": "b2J4y0RcR_xA",
        "colab_type": "code",
        "colab": {}
      },
      "source": [
        "ratings[ratings['Loser']]"
      ],
      "execution_count": 0,
      "outputs": []
    }
  ]
}