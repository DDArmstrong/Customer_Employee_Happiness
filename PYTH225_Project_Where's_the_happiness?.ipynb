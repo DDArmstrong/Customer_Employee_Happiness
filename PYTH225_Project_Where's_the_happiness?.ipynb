{
  "nbformat": 4,
  "nbformat_minor": 0,
  "metadata": {
    "colab": {
      "name": "PYTH225 Project: Where's the happiness?",
      "provenance": [],
      "collapsed_sections": [],
      "include_colab_link": true
    },
    "kernelspec": {
      "display_name": "Python 3",
      "name": "python3"
    }
  },
  "cells": [
    {
      "cell_type": "markdown",
      "metadata": {
        "id": "view-in-github",
        "colab_type": "text"
      },
      "source": [
        "<a href=\"https://colab.research.google.com/github/Denko/Customer_Employee_Happiness/blob/master/PYTH225_Project_Where's_the_happiness%3F.ipynb\" target=\"_parent\"><img src=\"https://colab.research.google.com/assets/colab-badge.svg\" alt=\"Open In Colab\"/></a>"
      ]
    },
    {
      "cell_type": "markdown",
      "metadata": {
        "colab_type": "text",
        "id": "5fCEDCU_qrC0"
      },
      "source": [
        "<h1>Happy employees, happy customers: Where are they?</h1>\n",
        "\n",
        "Bernie says companies exploit workers and gouge customers. CEOs see love all around: grateful and fulfilled workers, satisfied and loyal customers.\n",
        "\n",
        "The truth? It all depends.\n",
        "\n",
        "In this project, I'll create 2x2 scatter plots by industry and find companies that score well (and not as well) on both dimensions. The two axes will measure:\n",
        "\n",
        "*   Customer satisfaction as shown by the [American Customer Satisfaction Index (ASCI)](https://en.wikipedia.org/wiki/American_Customer_Satisfaction_Index), and\n",
        "\n",
        "*   Employee satisfaction as shown by [Glassdoor](https://en.wikipedia.org/wiki/Glassdoor) ratings.\n",
        "\n",
        "## <h2>The output</h2>\n",
        "I created a model in Tableau for [fast food companies](https://drive.google.com/uc?id=1E5G-uP2j6kQ3CCG2A6eOVZRWnuFg1KfU). The goal of this project will be to create something similar - as well as, ideally, to do some additonal exploratory data analysis on the measures - using Python.\n",
        "\n",
        "## <h2>The data</h2>\n",
        "Grabbing the ACSI data, which measures customer satisfaction by industry, is a matter of [copying, pasting, and doing a little parsing](https://www.theacsi.org/index.php?option=com_content&view=article&id=149&catid=&Itemid=214&i=Airlines). It's an Excel job.\n",
        "\n",
        "Getting Glassdoors rating is tougher. There's no way to search on companies using a standardized identifier like ticker, and each rating is buried within the html on the company's Glassdoor page. (See the rating for [General Assembly, 3.6 out of five (not bad)](https://www.glassdoor.com/Reviews/General-Assembly-Reviews-E459214.htm), based on 388 reviews, a number suggesting [some degree of credibilty](https://www.wsj.com/articles/companies-manipulate-glassdoor-by-inflating-rankings-and-pressuring-employees-11548171977).)\n",
        "\n",
        "I'll try to scrape the Glassdoor ratings. Most likely I will end up collecting this data manually. Tediously.\n",
        "\n",
        "## <h2>Methodology</h2>\n",
        "\n",
        "1.   Grab the data for at least 3-4 industries (ideally more).\n",
        "2.   Save it on Google Drive as a csv file.\n",
        "3.   Convert the Glassdoor ratings to a 1-100 scale, so they are comparable to the ACSI ratings.\n",
        "3.   Find some summary statistics for both the ACSI and Glassdoor measures, as a group and by industry (average, median, max, min).\n",
        "4.   Using matplotlib or a similar library, create scatter plots by industry and across all industries, scaling the axes using the max and min for the data sets.\n",
        "6.   Using the medians, divide the scatter plots into four quadrants: happy employees and customers, unhappy employees and customers, and a mix of the two.\n",
        "7.   Label the scatter plots appropriately."
      ]
    },
    {
      "cell_type": "markdown",
      "metadata": {
        "id": "htKD6svWgt8P",
        "colab_type": "text"
      },
      "source": [
        "# The data"
      ]
    },
    {
      "cell_type": "markdown",
      "metadata": {
        "id": "LFuJ2q9taG39",
        "colab_type": "text"
      },
      "source": [
        "Bring in the data and store it in a dataframe."
      ]
    },
    {
      "cell_type": "code",
      "metadata": {
        "id": "nmvFCBORg15O",
        "colab_type": "code",
        "colab": {}
      },
      "source": [
        "import pandas as pd\n",
        "import numpy as np\n",
        "from scipy.stats import pearsonr\n",
        "import matplotlib.pyplot as plt\n",
        "\n",
        "# Next code is from https://towardsdatascience.com/3-ways-to-load-csv-files-into-colab-7c14fcbdcb92\n",
        "\n",
        "from pydrive.auth import GoogleAuth\n",
        "from pydrive.drive import GoogleDrive\n",
        "from google.colab import auth\n",
        "from oauth2client.client import GoogleCredentials\n",
        "\n",
        "# Authenticate and create the PyDrive client.\n",
        "auth.authenticate_user()\n",
        "gauth = GoogleAuth()\n",
        "gauth.credentials = GoogleCredentials.get_application_default()\n",
        "drive = GoogleDrive(gauth)\n",
        "\n",
        "link = 'https://drive.google.com/open?id=1PASwl5-MrBwbxJxH5SmgXTm2P-hVZqsk'\n",
        "fluff, id = link.split('=')\n",
        "# print (id) # Verify that you have everything after '='\n",
        "\n",
        "downloaded = drive.CreateFile({'id':id}) \n",
        "downloaded.GetContentFile('company_love.csv')  \n",
        "ratings = pd.read_csv('company_love.csv')\n",
        "# Dataset is now stored in a Pandas Dataframe"
      ],
      "execution_count": 0,
      "outputs": []
    },
    {
      "cell_type": "markdown",
      "metadata": {
        "id": "y8kzRsSUa2-M",
        "colab_type": "text"
      },
      "source": [
        "Describe the data:\n",
        "\n",
        "*   269 companies\n",
        "\n",
        "*   \"Customer Satisfaction\" shows how the companies are rated on a scale of 0-100 according to the ACSI (American Customer Satisfaction Index)\n",
        "*   Six ratings of employee satisfaction from Glassdoor employee reviews: Overall satisfaction, Compensation & Benefits, Culture & Values, Career Opportunities, Work-Life Balance, and ratings of Senior Management\n",
        "*   The number of reviews the Glassdoor ratings are based on, both English-language reviews and total reviews\n",
        "*   Two columns of random numbers (we'll use these later)."
      ]
    },
    {
      "cell_type": "code",
      "metadata": {
        "id": "7wlIaCnWDlWf",
        "colab_type": "code",
        "colab": {
          "base_uri": "https://localhost:8080/",
          "height": 416
        },
        "outputId": "e0d8d25a-a847-43a4-ae4e-82d5b11734d2"
      },
      "source": [
        "print(ratings.Industry,ratings.Company)"
      ],
      "execution_count": 87,
      "outputs": [
        {
          "output_type": "stream",
          "text": [
            "0                        Airlines\n",
            "1                        Airlines\n",
            "2                        Airlines\n",
            "3                        Airlines\n",
            "4                        Airlines\n",
            "                  ...            \n",
            "264    Wireless Telephone Service\n",
            "265    Wireless Telephone Service\n",
            "266    Wireless Telephone Service\n",
            "267    Wireless Telephone Service\n",
            "268    Wireless Telephone Service\n",
            "Name: Industry, Length: 269, dtype: object 0                 Alaska\n",
            "1               American\n",
            "2                  Delta\n",
            "3               Frontier\n",
            "4                JetBlue\n",
            "             ...        \n",
            "264               Sprint\n",
            "265             T-Mobile\n",
            "266    TracFone Wireless\n",
            "267        U.S. Cellular\n",
            "268     Verizon Wireless\n",
            "Name: Company, Length: 269, dtype: object\n"
          ],
          "name": "stdout"
        }
      ]
    },
    {
      "cell_type": "code",
      "metadata": {
        "id": "1_U0SrCga61n",
        "colab_type": "code",
        "colab": {
          "base_uri": "https://localhost:8080/",
          "height": 311
        },
        "outputId": "043e8923-5e2e-4312-a412-8c09f65414b5"
      },
      "source": [
        "ratings.describe()"
      ],
      "execution_count": 4,
      "outputs": [
        {
          "output_type": "execute_result",
          "data": {
            "text/html": [
              "<div>\n",
              "<style scoped>\n",
              "    .dataframe tbody tr th:only-of-type {\n",
              "        vertical-align: middle;\n",
              "    }\n",
              "\n",
              "    .dataframe tbody tr th {\n",
              "        vertical-align: top;\n",
              "    }\n",
              "\n",
              "    .dataframe thead th {\n",
              "        text-align: right;\n",
              "    }\n",
              "</style>\n",
              "<table border=\"1\" class=\"dataframe\">\n",
              "  <thead>\n",
              "    <tr style=\"text-align: right;\">\n",
              "      <th></th>\n",
              "      <th>Customer Satisfaction</th>\n",
              "      <th>Overall Employee</th>\n",
              "      <th>Comp &amp; Benefits</th>\n",
              "      <th>Culture &amp; Values</th>\n",
              "      <th>Career Opportunities</th>\n",
              "      <th>Work-Life Balance</th>\n",
              "      <th>English Reviews</th>\n",
              "      <th>Total Reviews</th>\n",
              "      <th>Random Big</th>\n",
              "      <th>Random Small</th>\n",
              "    </tr>\n",
              "  </thead>\n",
              "  <tbody>\n",
              "    <tr>\n",
              "      <th>count</th>\n",
              "      <td>269.000000</td>\n",
              "      <td>269.000000</td>\n",
              "      <td>269.000000</td>\n",
              "      <td>269.000000</td>\n",
              "      <td>269.000000</td>\n",
              "      <td>269.000000</td>\n",
              "      <td>269.000000</td>\n",
              "      <td>269.000000</td>\n",
              "      <td>269.000000</td>\n",
              "      <td>269.000000</td>\n",
              "    </tr>\n",
              "    <tr>\n",
              "      <th>mean</th>\n",
              "      <td>77.081784</td>\n",
              "      <td>3.492193</td>\n",
              "      <td>3.455390</td>\n",
              "      <td>3.423420</td>\n",
              "      <td>3.227881</td>\n",
              "      <td>3.363941</td>\n",
              "      <td>4116.486989</td>\n",
              "      <td>4567.501859</td>\n",
              "      <td>0.014836</td>\n",
              "      <td>-0.000695</td>\n",
              "    </tr>\n",
              "    <tr>\n",
              "      <th>std</th>\n",
              "      <td>4.437880</td>\n",
              "      <td>0.393101</td>\n",
              "      <td>0.514653</td>\n",
              "      <td>0.480681</td>\n",
              "      <td>0.393230</td>\n",
              "      <td>0.426458</td>\n",
              "      <td>6749.994289</td>\n",
              "      <td>7282.615862</td>\n",
              "      <td>0.288619</td>\n",
              "      <td>0.029673</td>\n",
              "    </tr>\n",
              "    <tr>\n",
              "      <th>min</th>\n",
              "      <td>57.000000</td>\n",
              "      <td>2.100000</td>\n",
              "      <td>1.800000</td>\n",
              "      <td>1.800000</td>\n",
              "      <td>1.600000</td>\n",
              "      <td>1.800000</td>\n",
              "      <td>2.000000</td>\n",
              "      <td>2.000000</td>\n",
              "      <td>-0.493000</td>\n",
              "      <td>-0.049000</td>\n",
              "    </tr>\n",
              "    <tr>\n",
              "      <th>25%</th>\n",
              "      <td>75.000000</td>\n",
              "      <td>3.200000</td>\n",
              "      <td>3.000000</td>\n",
              "      <td>3.100000</td>\n",
              "      <td>3.000000</td>\n",
              "      <td>3.100000</td>\n",
              "      <td>470.000000</td>\n",
              "      <td>577.000000</td>\n",
              "      <td>-0.244000</td>\n",
              "      <td>-0.027000</td>\n",
              "    </tr>\n",
              "    <tr>\n",
              "      <th>50%</th>\n",
              "      <td>78.000000</td>\n",
              "      <td>3.500000</td>\n",
              "      <td>3.600000</td>\n",
              "      <td>3.400000</td>\n",
              "      <td>3.200000</td>\n",
              "      <td>3.400000</td>\n",
              "      <td>1873.000000</td>\n",
              "      <td>2055.000000</td>\n",
              "      <td>0.035000</td>\n",
              "      <td>-0.003000</td>\n",
              "    </tr>\n",
              "    <tr>\n",
              "      <th>75%</th>\n",
              "      <td>80.000000</td>\n",
              "      <td>3.800000</td>\n",
              "      <td>3.800000</td>\n",
              "      <td>3.800000</td>\n",
              "      <td>3.500000</td>\n",
              "      <td>3.700000</td>\n",
              "      <td>4500.000000</td>\n",
              "      <td>4957.000000</td>\n",
              "      <td>0.274000</td>\n",
              "      <td>0.026000</td>\n",
              "    </tr>\n",
              "    <tr>\n",
              "      <th>max</th>\n",
              "      <td>86.000000</td>\n",
              "      <td>4.500000</td>\n",
              "      <td>4.700000</td>\n",
              "      <td>4.600000</td>\n",
              "      <td>4.400000</td>\n",
              "      <td>4.700000</td>\n",
              "      <td>46577.000000</td>\n",
              "      <td>50714.000000</td>\n",
              "      <td>0.498000</td>\n",
              "      <td>0.050000</td>\n",
              "    </tr>\n",
              "  </tbody>\n",
              "</table>\n",
              "</div>"
            ],
            "text/plain": [
              "       Customer Satisfaction  Overall Employee  ...  Random Big  Random Small\n",
              "count             269.000000        269.000000  ...  269.000000    269.000000\n",
              "mean               77.081784          3.492193  ...    0.014836     -0.000695\n",
              "std                 4.437880          0.393101  ...    0.288619      0.029673\n",
              "min                57.000000          2.100000  ...   -0.493000     -0.049000\n",
              "25%                75.000000          3.200000  ...   -0.244000     -0.027000\n",
              "50%                78.000000          3.500000  ...    0.035000     -0.003000\n",
              "75%                80.000000          3.800000  ...    0.274000      0.026000\n",
              "max                86.000000          4.500000  ...    0.498000      0.050000\n",
              "\n",
              "[8 rows x 10 columns]"
            ]
          },
          "metadata": {
            "tags": []
          },
          "execution_count": 4
        }
      ]
    },
    {
      "cell_type": "markdown",
      "metadata": {
        "id": "CHKhf7lCdmU0",
        "colab_type": "text"
      },
      "source": [
        "Show the number of companies per industry category."
      ]
    },
    {
      "cell_type": "code",
      "metadata": {
        "id": "QbgKcAcwdr77",
        "colab_type": "code",
        "colab": {
          "base_uri": "https://localhost:8080/",
          "height": 589
        },
        "outputId": "0a0b6935-c3e1-4dfe-b8e1-aee5a1b34d2e"
      },
      "source": [
        "print('Companies per Industry\\n')\n",
        "print(ratings['Industry'].value_counts())"
      ],
      "execution_count": 20,
      "outputs": [
        {
          "output_type": "stream",
          "text": [
            "Companies per Industry\n",
            "\n",
            "Specialty Retail Stores                26\n",
            "Investor-Owned Energy Utilities        25\n",
            "Supermarkets                           19\n",
            "Limited-Service Restaurants            15\n",
            "Automobiles and Light Vehicles         14\n",
            "Internet Retail                        13\n",
            "Banks                                  13\n",
            "Video Streaming Service                11\n",
            "Full-Service Restaurants               11\n",
            "Food Manufacturing                     10\n",
            "Personal Computers                      9\n",
            "Airlines                                8\n",
            "Property and Casualty Insurance         8\n",
            "Hotels                                  8\n",
            "Department and Discount Stores          7\n",
            "Internet News and Opinion               7\n",
            "Internet Investment Services            6\n",
            "Personal Care and Cleaning Products     6\n",
            "Health Insurance                        6\n",
            "Wireless Telephone Service              6\n",
            "Internet Social Media                   5\n",
            "Video-on-Demand Service                 5\n",
            "Financial Advisors                      5\n",
            "Life Insurance                          5\n",
            "Household Appliances                    5\n",
            "Apparel                                 4\n",
            "Soft Drinks                             3\n",
            "Consumer Shipping                       3\n",
            "Internet Service Providers              3\n",
            "Internet Travel Services                3\n",
            "Name: Industry, dtype: int64\n"
          ],
          "name": "stdout"
        }
      ]
    },
    {
      "cell_type": "markdown",
      "metadata": {
        "id": "QMKRdQDsltkJ",
        "colab_type": "text"
      },
      "source": [
        "# How industries fare"
      ]
    },
    {
      "cell_type": "markdown",
      "metadata": {
        "id": "SlgNThavfr78",
        "colab_type": "text"
      },
      "source": [
        "Using the ACSI ratings, let's look at the industries that customers like the most. (Can you guess what industry they hate?) "
      ]
    },
    {
      "cell_type": "code",
      "metadata": {
        "id": "jtvEwpFjf8hJ",
        "colab_type": "code",
        "colab": {
          "base_uri": "https://localhost:8080/",
          "height": 572
        },
        "outputId": "8869ae34-bc8f-4e65-eac2-7dcda2d3d5b1"
      },
      "source": [
        "sum_table = ratings.groupby(['Industry'])['Customer Satisfaction'].describe()[['count', 'mean','max','min']].sort_values('mean', ascending=False)\n",
        "print(sum_table)\n"
      ],
      "execution_count": 23,
      "outputs": [
        {
          "output_type": "stream",
          "text": [
            "                                     count       mean   max   min\n",
            "Industry                                                         \n",
            "Soft Drinks                            3.0  81.666667  82.0  81.0\n",
            "Food Manufacturing                    10.0  81.500000  84.0  80.0\n",
            "Personal Care and Cleaning Products    6.0  80.333333  84.0  77.0\n",
            "Household Appliances                   5.0  80.200000  82.0  79.0\n",
            "Internet Investment Services           6.0  80.000000  81.0  78.0\n",
            "Life Insurance                         5.0  79.800000  82.0  78.0\n",
            "Apparel                                4.0  79.750000  83.0  77.0\n",
            "Internet Retail                       13.0  79.307692  82.0  73.0\n",
            "Supermarkets                          19.0  79.210526  84.0  73.0\n",
            "Financial Advisors                     5.0  79.200000  80.0  78.0\n",
            "Full-Service Restaurants              11.0  79.090909  83.0  77.0\n",
            "Internet Travel Services               3.0  79.000000  82.0  76.0\n",
            "Automobiles and Light Vehicles        14.0  78.785714  83.0  71.0\n",
            "Property and Casualty Insurance        8.0  78.375000  81.0  76.0\n",
            "Specialty Retail Stores               26.0  78.346154  82.0  75.0\n",
            "Banks                                 13.0  78.230769  81.0  76.0\n",
            "Personal Computers                     9.0  78.000000  83.0  74.0\n",
            "Limited-Service Restaurants           15.0  77.800000  86.0  69.0\n",
            "Consumer Shipping                      3.0  77.333333  79.0  74.0\n",
            "Department and Discount Stores         7.0  76.142857  78.0  73.0\n",
            "Hotels                                 8.0  75.250000  80.0  64.0\n",
            "Health Insurance                       6.0  75.000000  79.0  71.0\n",
            "Video Streaming Service               11.0  74.545455  79.0  68.0\n",
            "Wireless Telephone Service             6.0  74.166667  78.0  69.0\n",
            "Investor-Owned Energy Utilities       25.0  73.920000  80.0  68.0\n",
            "Internet News and Opinion              7.0  73.285714  78.0  69.0\n",
            "Airlines                               8.0  72.875000  80.0  63.0\n",
            "Internet Social Media                  5.0  71.400000  80.0  63.0\n",
            "Video-on-Demand Service                5.0  66.800000  71.0  64.0\n",
            "Internet Service Providers             3.0  61.666667  69.0  57.0\n"
          ],
          "name": "stdout"
        }
      ]
    },
    {
      "cell_type": "markdown",
      "metadata": {
        "id": "iZ-9kAxYgr_R",
        "colab_type": "text"
      },
      "source": [
        "What about employees? Let's look at the industries employees most love and hate."
      ]
    },
    {
      "cell_type": "code",
      "metadata": {
        "id": "6giH6BRbhGad",
        "colab_type": "code",
        "colab": {
          "base_uri": "https://localhost:8080/",
          "height": 572
        },
        "outputId": "c05c5b03-abed-493e-f6a0-075926bcc34c"
      },
      "source": [
        "sum_table_emp = ratings.groupby(['Industry'])['Overall Employee'].describe()[['count', 'mean','max','min']].sort_values('mean', ascending=False)\n",
        "print(sum_table_emp)"
      ],
      "execution_count": 26,
      "outputs": [
        {
          "output_type": "stream",
          "text": [
            "                                     count      mean  max  min\n",
            "Industry                                                      \n",
            "Internet Social Media                  5.0  3.900000  4.4  3.4\n",
            "Personal Care and Cleaning Products    6.0  3.850000  4.0  3.3\n",
            "Airlines                               8.0  3.837500  4.3  3.3\n",
            "Personal Computers                     9.0  3.833333  4.4  3.3\n",
            "Hotels                                 8.0  3.800000  4.5  3.0\n",
            "Video Streaming Service               11.0  3.736364  4.4  2.9\n",
            "Food Manufacturing                    10.0  3.670000  4.5  3.1\n",
            "Internet Investment Services           6.0  3.666667  3.9  3.2\n",
            "Internet News and Opinion              7.0  3.600000  3.8  3.0\n",
            "Financial Advisors                     5.0  3.580000  3.8  3.3\n",
            "Household Appliances                   5.0  3.580000  4.0  2.9\n",
            "Soft Drinks                            3.0  3.566667  3.7  3.3\n",
            "Internet Travel Services               3.0  3.566667  3.8  3.3\n",
            "Life Insurance                         5.0  3.560000  3.7  3.3\n",
            "Automobiles and Light Vehicles        14.0  3.557143  4.1  2.5\n",
            "Banks                                 13.0  3.492308  3.8  3.2\n",
            "Investor-Owned Energy Utilities       25.0  3.468000  4.0  2.1\n",
            "Health Insurance                       6.0  3.450000  3.9  2.8\n",
            "Property and Casualty Insurance        8.0  3.437500  4.0  3.2\n",
            "Limited-Service Restaurants           15.0  3.420000  3.9  3.0\n",
            "Full-Service Restaurants              11.0  3.381818  3.9  3.1\n",
            "Apparel                                4.0  3.375000  3.8  3.0\n",
            "Wireless Telephone Service             6.0  3.366667  4.0  2.6\n",
            "Consumer Shipping                      3.0  3.366667  3.7  2.9\n",
            "Supermarkets                          19.0  3.363158  4.2  2.3\n",
            "Internet Retail                       13.0  3.353846  4.0  2.6\n",
            "Specialty Retail Stores               26.0  3.280769  3.8  2.9\n",
            "Video-on-Demand Service                5.0  3.160000  3.7  2.5\n",
            "Internet Service Providers             3.0  3.133333  3.4  3.0\n",
            "Department and Discount Stores         7.0  2.971429  3.2  2.7\n"
          ],
          "name": "stdout"
        }
      ]
    },
    {
      "cell_type": "markdown",
      "metadata": {
        "id": "Oi6x-rzil7kq",
        "colab_type": "text"
      },
      "source": [
        "# Do happy employees beget happy customers?"
      ]
    },
    {
      "cell_type": "markdown",
      "metadata": {
        "id": "fA4LMAVNheZB",
        "colab_type": "text"
      },
      "source": [
        "Now it's time to test the idea that when employees are happy, customers are happy too. To what extent is customer satisfaction correlated with employee satisfaction? First we'll look at how customer satisfacton correlates with all six Glassdoor ratings."
      ]
    },
    {
      "cell_type": "code",
      "metadata": {
        "id": "BGz2AgzSiJfY",
        "colab_type": "code",
        "colab": {
          "base_uri": "https://localhost:8080/",
          "height": 173
        },
        "outputId": "86562b5e-93a7-4f36-993a-c12d5f6ffbb9"
      },
      "source": [
        "# p-value method from https://stackoverflow.com/questions/25571882/pandas-columns-correlation-with-statistical-significance\n",
        "\n",
        "overall = pearsonr(ratings['Customer Satisfaction'], ratings['Overall Employee']) # 1st value is correlation, 2nd is p-value\n",
        "comp = pearsonr(ratings['Customer Satisfaction'], ratings['Comp & Benefits'])\n",
        "values = pearsonr(ratings['Customer Satisfaction'], ratings['Culture & Values'])\n",
        "growth = pearsonr(ratings['Customer Satisfaction'], ratings['Career Opportunities'])\n",
        "balance = pearsonr(ratings['Customer Satisfaction'], ratings['Work-Life Balance'])\n",
        "# boss = pearsonr(ratings['Customer Satisfaction'], ratings['Senior Mgmt'])\n",
        "\n",
        "print('Correlation of Customer Love with:\\n')\n",
        "print('Employee Satisfaction ',overall)\n",
        "print('Comp/Benefits ',comp)\n",
        "print('Culture/Values ',values)\n",
        "print('Career Opportunities ',growth)\n",
        "print('Work-Life Balance ',balance)\n",
        "print('\\n(Correlation followed by p-value)')"
      ],
      "execution_count": 35,
      "outputs": [
        {
          "output_type": "stream",
          "text": [
            "Correlation of Customer Love with:\n",
            "\n",
            "Employee Satisfaction  (0.15115807526053038, 0.013068065882048648)\n",
            "Comp/Benefits  (-0.027966791523934435, 0.6479278153924193)\n",
            "Culture/Values  (0.22701610243946022, 0.00017323978078320968)\n",
            "Career Opportunities  (0.09896871715530155, 0.10531236242192746)\n",
            "Work-Life Balance  (0.10093144486818877, 0.09855272486215864)\n",
            "\n",
            "(Correlation followed by p-value)\n"
          ],
          "name": "stdout"
        }
      ]
    },
    {
      "cell_type": "markdown",
      "metadata": {
        "id": "jqiADCH9jebQ",
        "colab_type": "text"
      },
      "source": [
        "In general, the  correlations are low and insignificant, but there's an exception. There is a relatively high (0.23) and very significant (0.02%) correlation between:\n",
        "\n",
        "*   how employees rate the company's culture and values\n",
        "*   how satisfied customers are\n",
        "\n",
        "The only other significant correlation is between overall employee and overall customer satisfaction, at 0.15 with a p-value of 1.3% - significant but not high.\n",
        "\n",
        "\n",
        "\n"
      ]
    },
    {
      "cell_type": "code",
      "metadata": {
        "id": "CFMEwhlHhxOX",
        "colab_type": "code",
        "colab": {
          "base_uri": "https://localhost:8080/",
          "height": 357
        },
        "outputId": "9b5f4efb-7dc8-4d02-f7a7-185338a6d4d7"
      },
      "source": [
        "# ind_cust = ratings.groupby(['Industry'])['Customer Satisfaction']\n",
        "# ind_empl = ratings.groupby(['Industry'])['Overall Employee']\n",
        "# corr_ind = pearsonr(ind_cust,ind_empl)\n",
        "\n",
        "#balance = pearsonr(ratings.groupby(['Industry'])['Customer Satisfaction'], ratings.groupby(['Industry'])['Culture & Values'])\n"
      ],
      "execution_count": 42,
      "outputs": [
        {
          "output_type": "error",
          "ename": "AttributeError",
          "evalue": "ignored",
          "traceback": [
            "\u001b[0;31m---------------------------------------------------------------------------\u001b[0m",
            "\u001b[0;31mAttributeError\u001b[0m                            Traceback (most recent call last)",
            "\u001b[0;32m<ipython-input-42-7ea335dcce27>\u001b[0m in \u001b[0;36m<module>\u001b[0;34m()\u001b[0m\n\u001b[1;32m      1\u001b[0m \u001b[0mind_cust\u001b[0m \u001b[0;34m=\u001b[0m \u001b[0mratings\u001b[0m\u001b[0;34m.\u001b[0m\u001b[0mgroupby\u001b[0m\u001b[0;34m(\u001b[0m\u001b[0;34m[\u001b[0m\u001b[0;34m'Industry'\u001b[0m\u001b[0;34m]\u001b[0m\u001b[0;34m)\u001b[0m\u001b[0;34m[\u001b[0m\u001b[0;34m'Customer Satisfaction'\u001b[0m\u001b[0;34m]\u001b[0m\u001b[0;34m\u001b[0m\u001b[0;34m\u001b[0m\u001b[0m\n\u001b[1;32m      2\u001b[0m \u001b[0mind_empl\u001b[0m \u001b[0;34m=\u001b[0m \u001b[0mratings\u001b[0m\u001b[0;34m.\u001b[0m\u001b[0mgroupby\u001b[0m\u001b[0;34m(\u001b[0m\u001b[0;34m[\u001b[0m\u001b[0;34m'Industry'\u001b[0m\u001b[0;34m]\u001b[0m\u001b[0;34m)\u001b[0m\u001b[0;34m[\u001b[0m\u001b[0;34m'Overall Employee'\u001b[0m\u001b[0;34m]\u001b[0m\u001b[0;34m\u001b[0m\u001b[0;34m\u001b[0m\u001b[0m\n\u001b[0;32m----> 3\u001b[0;31m \u001b[0mcorr_ind\u001b[0m \u001b[0;34m=\u001b[0m \u001b[0mpearsonr\u001b[0m\u001b[0;34m(\u001b[0m\u001b[0mind_cust\u001b[0m\u001b[0;34m,\u001b[0m\u001b[0mind_empl\u001b[0m\u001b[0;34m)\u001b[0m\u001b[0;34m\u001b[0m\u001b[0;34m\u001b[0m\u001b[0m\n\u001b[0m\u001b[1;32m      4\u001b[0m \u001b[0;34m\u001b[0m\u001b[0m\n\u001b[1;32m      5\u001b[0m \u001b[0;31m#balance = pearsonr(ratings.groupby(['Industry'])['Customer Satisfaction'], ratings.groupby(['Industry'])['Culture & Values'])\u001b[0m\u001b[0;34m\u001b[0m\u001b[0;34m\u001b[0m\u001b[0;34m\u001b[0m\u001b[0m\n",
            "\u001b[0;32m/usr/local/lib/python3.6/dist-packages/scipy/stats/stats.py\u001b[0m in \u001b[0;36mpearsonr\u001b[0;34m(x, y)\u001b[0m\n\u001b[1;32m   3505\u001b[0m \u001b[0;34m\u001b[0m\u001b[0m\n\u001b[1;32m   3506\u001b[0m     \u001b[0;31m# If an input is constant, the correlation coefficient is not defined.\u001b[0m\u001b[0;34m\u001b[0m\u001b[0;34m\u001b[0m\u001b[0;34m\u001b[0m\u001b[0m\n\u001b[0;32m-> 3507\u001b[0;31m     \u001b[0;32mif\u001b[0m \u001b[0;34m(\u001b[0m\u001b[0mx\u001b[0m \u001b[0;34m==\u001b[0m \u001b[0mx\u001b[0m\u001b[0;34m[\u001b[0m\u001b[0;36m0\u001b[0m\u001b[0;34m]\u001b[0m\u001b[0;34m)\u001b[0m\u001b[0;34m.\u001b[0m\u001b[0mall\u001b[0m\u001b[0;34m(\u001b[0m\u001b[0;34m)\u001b[0m \u001b[0;32mor\u001b[0m \u001b[0;34m(\u001b[0m\u001b[0my\u001b[0m \u001b[0;34m==\u001b[0m \u001b[0my\u001b[0m\u001b[0;34m[\u001b[0m\u001b[0;36m0\u001b[0m\u001b[0;34m]\u001b[0m\u001b[0;34m)\u001b[0m\u001b[0;34m.\u001b[0m\u001b[0mall\u001b[0m\u001b[0;34m(\u001b[0m\u001b[0;34m)\u001b[0m\u001b[0;34m:\u001b[0m\u001b[0;34m\u001b[0m\u001b[0;34m\u001b[0m\u001b[0m\n\u001b[0m\u001b[1;32m   3508\u001b[0m         \u001b[0mwarnings\u001b[0m\u001b[0;34m.\u001b[0m\u001b[0mwarn\u001b[0m\u001b[0;34m(\u001b[0m\u001b[0mPearsonRConstantInputWarning\u001b[0m\u001b[0;34m(\u001b[0m\u001b[0;34m)\u001b[0m\u001b[0;34m)\u001b[0m\u001b[0;34m\u001b[0m\u001b[0;34m\u001b[0m\u001b[0m\n\u001b[1;32m   3509\u001b[0m         \u001b[0;32mreturn\u001b[0m \u001b[0mnp\u001b[0m\u001b[0;34m.\u001b[0m\u001b[0mnan\u001b[0m\u001b[0;34m,\u001b[0m \u001b[0mnp\u001b[0m\u001b[0;34m.\u001b[0m\u001b[0mnan\u001b[0m\u001b[0;34m\u001b[0m\u001b[0;34m\u001b[0m\u001b[0m\n",
            "\u001b[0;31mAttributeError\u001b[0m: 'bool' object has no attribute 'all'"
          ]
        }
      ]
    },
    {
      "cell_type": "markdown",
      "metadata": {
        "id": "4HZCM2hgpIuX",
        "colab_type": "text"
      },
      "source": [
        "# Scatterplots"
      ]
    },
    {
      "cell_type": "code",
      "metadata": {
        "id": "pkk0rkACpT9a",
        "colab_type": "code",
        "colab": {
          "base_uri": "https://localhost:8080/",
          "height": 262
        },
        "outputId": "54a3ac6e-edce-4fe2-cf4b-22d801a70e73"
      },
      "source": [
        "ACSI = ratings['Customer Satisfaction'] + ratings['Random Big']\n",
        "ACSI_mean = ratings['Customer Satisfaction'].mean\n",
        "GD = ratings['Overall Employee'] + ratings['Random Small']\n",
        "GD_mean = ratings['Overall Employee'].mean\n",
        "\n",
        "plt.style.use('seaborn-whitegrid')\n",
        "y = ACSI\n",
        "x = GD\n",
        "plt.plot(x, y,'o', color='green');\n",
        "\n"
      ],
      "execution_count": 81,
      "outputs": [
        {
          "output_type": "display_data",
          "data": {
            "image/png": "[encoded data removed]",
            "text/plain": [
              "<Figure size 432x288 with 1 Axes>"
            ]
          },
          "metadata": {
            "tags": []
          }
        }
      ]
    }
  ]
}