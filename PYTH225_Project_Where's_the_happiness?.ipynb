{
  "nbformat": 4,
  "nbformat_minor": 0,
  "metadata": {
    "colab": {
      "name": "PYTH225 Project: Where's the happiness?",
      "provenance": [],
      "collapsed_sections": [],
      "include_colab_link": true
    },
    "kernelspec": {
      "display_name": "Python 3",
      "name": "python3"
    }
  },
  "cells": [
    {
      "cell_type": "markdown",
      "metadata": {
        "id": "view-in-github",
        "colab_type": "text"
      },
      "source": [
        "<a href=\"https://colab.research.google.com/github/Denko/Customer_Employee_Happiness/blob/master/PYTH225_Project_Where's_the_happiness%3F.ipynb\" target=\"_parent\"><img src=\"https://colab.research.google.com/assets/colab-badge.svg\" alt=\"Open In Colab\"/></a>"
      ]
    },
    {
      "cell_type": "markdown",
      "metadata": {
        "colab_type": "text",
        "id": "5fCEDCU_qrC0"
      },
      "source": [
        "<h1>Do happy employees beget happy customers?</h1>\n",
        "\n",
        "Bernie says companies squeeze workers and gouge customers. CEOs see happiness all around, with cheerful workers spreading customer joy. \n",
        "\n",
        "What does the data say? In this project, we'll find companies with happy employees and see whether those firms also have happy customers. We'll create 2x2 scatter plots by industry and find companies that score well (and not as well) on both dimensions.\n",
        "\n",
        "The two axes will measure:\n",
        "\n",
        "*   Customer satisfaction as shown by the [American Customer Satisfaction Index (ASCI)](https://en.wikipedia.org/wiki/American_Customer_Satisfaction_Index), and\n",
        "\n",
        "*   Employee satisfaction as shown by [Glassdoor](https://en.wikipedia.org/wiki/Glassdoor) ratings.\n",
        "\n",
        "## <h2>The output</h2>\n",
        "I created a model in Tableau for [fast food companies](https://drive.google.com/uc?id=1E5G-uP2j6kQ3CCG2A6eOVZRWnuFg1KfU). The goal of this project will be to create something similar - as well as, ideally, to do some additonal exploratory data analysis on the measures - using Python.\n",
        "\n",
        "## <h2>The data</h2>\n",
        "Grabbing the ACSI data, which measures customer satisfaction by industry, is a matter of [copying, pasting, and doing a little parsing](https://www.theacsi.org/index.php?option=com_content&view=article&id=149&catid=&Itemid=214&i=Airlines). It's an Excel job (although, as Andy pointed out, the ACSI data could have been read directly into Pandas with [read_html](https://pandas.pydata.org/pandas-docs/version/0.23.4/generated/pandas.read_html.html)).\n",
        "\n",
        "Getting Glassdoor ratings is tougher. There's no way to search on companies using a standardized identifier like ticker, and each rating is buried within the html on a couple of different company pages. (See the rating for [General Assembly, 3.6 out of five (not bad)](https://www.glassdoor.com/Reviews/General-Assembly-Reviews-E459214.htm), based on 388 reviews, a number suggesting [some degree of credibility](https://www.wsj.com/articles/companies-manipulate-glassdoor-by-inflating-rankings-and-pressuring-employees-11548171977).)\n",
        "\n",
        "I'll try to scrape the Glassdoor ratings. Most likely I will end up collecting this data manually. Tediously.\n",
        "\n",
        "## <h2>Methodology</h2>\n",
        "\n",
        "1.   Grab the customer and employee satisfaction data for the companies in the industries tracked by the ACSI.\n",
        "2.   Save it on Google Drive as a csv file.\n",
        "3.   Find summary statistics for both the ACSI and Glassdoor measures, as a group and by industry (average, median, max, min).\n",
        "4.   Inspect the correlations and p-values between ACSI (customer satisfaction) and Glassdoor (employee satisfaction) to confirm that a relationship exists and see how strong and significant it is.\n",
        "5.   Using matplotlib or a similar library, create scatter plots by industry and across all industries.\n",
        "6.   Using the medians or averages, divide the scatter plots into four quadrants: happy employees and customers, unhappy employees and customers, and a mix of the two.\n",
        "7.   List the \"winners\": the companies in the top right quadrant, which have higher-than-average employee and customer satisfaction. List the losers in the opposite quadrant too."
      ]
    },
    {
      "cell_type": "markdown",
      "metadata": {
        "id": "htKD6svWgt8P",
        "colab_type": "text"
      },
      "source": [
        "# The data"
      ]
    },
    {
      "cell_type": "markdown",
      "metadata": {
        "id": "LFuJ2q9taG39",
        "colab_type": "text"
      },
      "source": [
        "Bring in the data and store it in a dataframe."
      ]
    },
    {
      "cell_type": "code",
      "metadata": {
        "id": "nmvFCBORg15O",
        "colab_type": "code",
        "colab": {}
      },
      "source": [
        "import pandas as pd\n",
        "import numpy as np\n",
        "from scipy.stats import pearsonr # To see correlations between employee and customer satisfaction.\n",
        "import matplotlib.pyplot as plt # To create scatter plots\n",
        "import seaborn as sns # For nice graphics and formatting\n",
        "from tabulate import tabulate # To get pretty tables\n",
        "\n",
        "# Next code is from https://towardsdatascience.com/3-ways-to-load-csv-files-into-colab-7c14fcbdcb92\n",
        "\n",
        "from pydrive.auth import GoogleAuth\n",
        "from pydrive.drive import GoogleDrive\n",
        "from google.colab import auth\n",
        "from oauth2client.client import GoogleCredentials\n",
        "\n",
        "# Authenticate and create the PyDrive client.\n",
        "auth.authenticate_user()\n",
        "gauth = GoogleAuth()\n",
        "gauth.credentials = GoogleCredentials.get_application_default()\n",
        "drive = GoogleDrive(gauth)\n",
        "\n",
        "link = 'https://drive.google.com/open?id=1PASwl5-MrBwbxJxH5SmgXTm2P-hVZqsk'\n",
        "fluff, id = link.split('=')\n",
        "# print (id) # Verify that you have everything after '='\n",
        "\n",
        "downloaded = drive.CreateFile({'id':id}) \n",
        "downloaded.GetContentFile('company_love.csv')  \n",
        "ratings = pd.read_csv('company_love.csv')\n",
        "# Dataset is now stored in a Pandas Dataframe"
      ],
      "execution_count": 0,
      "outputs": []
    },
    {
      "cell_type": "markdown",
      "metadata": {
        "id": "y8kzRsSUa2-M",
        "colab_type": "text"
      },
      "source": [
        "Describe the data:\n",
        "\n",
        "*   269 companies\n",
        "\n",
        "*   \"Customer Satisfaction\" shows how the companies are rated on a scale of 0-100 according to the ACSI (American Customer Satisfaction Index)\n",
        "*   Five ratings of employee satisfaction, on a scale of 0 to 5, from Glassdoor employee reviews: Overall satisfaction, Compensation & Benefits, Culture & Values, Career Opportunities and Work-Life Balance\n",
        "*   The number of reviews the Glassdoor ratings are based on, both English-language reviews and total reviews"
      ]
    },
    {
      "cell_type": "code",
      "metadata": {
        "id": "1_U0SrCga61n",
        "colab_type": "code",
        "outputId": "dc37edbb-6e79-4390-fe29-2e940137aad9",
        "colab": {
          "base_uri": "https://localhost:8080/",
          "height": 294
        }
      },
      "source": [
        "ratings.iloc[:,0:9].describe()"
      ],
      "execution_count": 65,
      "outputs": [
        {
          "output_type": "execute_result",
          "data": {
            "text/html": [
              "<div>\n",
              "<style scoped>\n",
              "    .dataframe tbody tr th:only-of-type {\n",
              "        vertical-align: middle;\n",
              "    }\n",
              "\n",
              "    .dataframe tbody tr th {\n",
              "        vertical-align: top;\n",
              "    }\n",
              "\n",
              "    .dataframe thead th {\n",
              "        text-align: right;\n",
              "    }\n",
              "</style>\n",
              "<table border=\"1\" class=\"dataframe\">\n",
              "  <thead>\n",
              "    <tr style=\"text-align: right;\">\n",
              "      <th></th>\n",
              "      <th>Customer Satisfaction</th>\n",
              "      <th>Overall Employee</th>\n",
              "      <th>Comp &amp; Benefits</th>\n",
              "      <th>Culture &amp; Values</th>\n",
              "      <th>Career Opportunities</th>\n",
              "      <th>Work-Life Balance</th>\n",
              "    </tr>\n",
              "  </thead>\n",
              "  <tbody>\n",
              "    <tr>\n",
              "      <th>count</th>\n",
              "      <td>269.000000</td>\n",
              "      <td>269.000000</td>\n",
              "      <td>269.000000</td>\n",
              "      <td>269.000000</td>\n",
              "      <td>269.000000</td>\n",
              "      <td>269.000000</td>\n",
              "    </tr>\n",
              "    <tr>\n",
              "      <th>mean</th>\n",
              "      <td>77.081784</td>\n",
              "      <td>3.492193</td>\n",
              "      <td>3.455390</td>\n",
              "      <td>3.423420</td>\n",
              "      <td>3.227881</td>\n",
              "      <td>3.363941</td>\n",
              "    </tr>\n",
              "    <tr>\n",
              "      <th>std</th>\n",
              "      <td>4.437880</td>\n",
              "      <td>0.393101</td>\n",
              "      <td>0.514653</td>\n",
              "      <td>0.480681</td>\n",
              "      <td>0.393230</td>\n",
              "      <td>0.426458</td>\n",
              "    </tr>\n",
              "    <tr>\n",
              "      <th>min</th>\n",
              "      <td>57.000000</td>\n",
              "      <td>2.100000</td>\n",
              "      <td>1.800000</td>\n",
              "      <td>1.800000</td>\n",
              "      <td>1.600000</td>\n",
              "      <td>1.800000</td>\n",
              "    </tr>\n",
              "    <tr>\n",
              "      <th>25%</th>\n",
              "      <td>75.000000</td>\n",
              "      <td>3.200000</td>\n",
              "      <td>3.000000</td>\n",
              "      <td>3.100000</td>\n",
              "      <td>3.000000</td>\n",
              "      <td>3.100000</td>\n",
              "    </tr>\n",
              "    <tr>\n",
              "      <th>50%</th>\n",
              "      <td>78.000000</td>\n",
              "      <td>3.500000</td>\n",
              "      <td>3.600000</td>\n",
              "      <td>3.400000</td>\n",
              "      <td>3.200000</td>\n",
              "      <td>3.400000</td>\n",
              "    </tr>\n",
              "    <tr>\n",
              "      <th>75%</th>\n",
              "      <td>80.000000</td>\n",
              "      <td>3.800000</td>\n",
              "      <td>3.800000</td>\n",
              "      <td>3.800000</td>\n",
              "      <td>3.500000</td>\n",
              "      <td>3.700000</td>\n",
              "    </tr>\n",
              "    <tr>\n",
              "      <th>max</th>\n",
              "      <td>86.000000</td>\n",
              "      <td>4.500000</td>\n",
              "      <td>4.700000</td>\n",
              "      <td>4.600000</td>\n",
              "      <td>4.400000</td>\n",
              "      <td>4.700000</td>\n",
              "    </tr>\n",
              "  </tbody>\n",
              "</table>\n",
              "</div>"
            ],
            "text/plain": [
              "       Customer Satisfaction  ...  Work-Life Balance\n",
              "count             269.000000  ...         269.000000\n",
              "mean               77.081784  ...           3.363941\n",
              "std                 4.437880  ...           0.426458\n",
              "min                57.000000  ...           1.800000\n",
              "25%                75.000000  ...           3.100000\n",
              "50%                78.000000  ...           3.400000\n",
              "75%                80.000000  ...           3.700000\n",
              "max                86.000000  ...           4.700000\n",
              "\n",
              "[8 rows x 6 columns]"
            ]
          },
          "metadata": {
            "tags": []
          },
          "execution_count": 65
        }
      ]
    },
    {
      "cell_type": "markdown",
      "metadata": {
        "id": "CHKhf7lCdmU0",
        "colab_type": "text"
      },
      "source": [
        "Show the number of companies per industry category."
      ]
    },
    {
      "cell_type": "code",
      "metadata": {
        "id": "QbgKcAcwdr77",
        "colab_type": "code",
        "outputId": "f385172e-b55e-4f3d-ef50-253592b9a0b4",
        "colab": {
          "base_uri": "https://localhost:8080/",
          "height": 589
        }
      },
      "source": [
        "print('Companies per Industry\\n')\n",
        "print(ratings['Industry'].value_counts())"
      ],
      "execution_count": 66,
      "outputs": [
        {
          "output_type": "stream",
          "text": [
            "Companies per Industry\n",
            "\n",
            "Specialty Retail Stores                26\n",
            "Investor-Owned Energy Utilities        25\n",
            "Supermarkets                           19\n",
            "Limited-Service Restaurants            15\n",
            "Automobiles and Light Vehicles         14\n",
            "Banks                                  13\n",
            "Internet Retail                        13\n",
            "Video Streaming Service                11\n",
            "Full-Service Restaurants               11\n",
            "Food Manufacturing                     10\n",
            "Personal Computers                      9\n",
            "Airlines                                8\n",
            "Hotels                                  8\n",
            "Property and Casualty Insurance         8\n",
            "Internet News and Opinion               7\n",
            "Department and Discount Stores          7\n",
            "Personal Care and Cleaning Products     6\n",
            "Wireless Telephone Service              6\n",
            "Internet Investment Services            6\n",
            "Health Insurance                        6\n",
            "Financial Advisors                      5\n",
            "Internet Social Media                   5\n",
            "Life Insurance                          5\n",
            "Video-on-Demand Service                 5\n",
            "Household Appliances                    5\n",
            "Apparel                                 4\n",
            "Internet Travel Services                3\n",
            "Soft Drinks                             3\n",
            "Consumer Shipping                       3\n",
            "Internet Service Providers              3\n",
            "Name: Industry, dtype: int64\n"
          ],
          "name": "stdout"
        }
      ]
    },
    {
      "cell_type": "markdown",
      "metadata": {
        "id": "QMKRdQDsltkJ",
        "colab_type": "text"
      },
      "source": [
        "# How industries fare"
      ]
    },
    {
      "cell_type": "markdown",
      "metadata": {
        "id": "SlgNThavfr78",
        "colab_type": "text"
      },
      "source": [
        "Using the ACSI ratings, let's look at the industries that customers like the most. (Can you guess what industry they hate?) "
      ]
    },
    {
      "cell_type": "code",
      "metadata": {
        "id": "jtvEwpFjf8hJ",
        "colab_type": "code",
        "outputId": "d2809c69-6998-4c34-f243-2db423a34b7a",
        "colab": {
          "base_uri": "https://localhost:8080/",
          "height": 572
        }
      },
      "source": [
        "# The \"sort_values\" function at the end sorts the industries by customer satisfaction from best to least.\n",
        "sum_table = ratings.groupby(['Industry'])['Customer Satisfaction'].describe()[['count', 'mean','max','min']].sort_values('mean', ascending=False)\n",
        "print(sum_table)\n"
      ],
      "execution_count": 67,
      "outputs": [
        {
          "output_type": "stream",
          "text": [
            "                                     count       mean   max   min\n",
            "Industry                                                         \n",
            "Soft Drinks                            3.0  81.666667  82.0  81.0\n",
            "Food Manufacturing                    10.0  81.500000  84.0  80.0\n",
            "Personal Care and Cleaning Products    6.0  80.333333  84.0  77.0\n",
            "Household Appliances                   5.0  80.200000  82.0  79.0\n",
            "Internet Investment Services           6.0  80.000000  81.0  78.0\n",
            "Life Insurance                         5.0  79.800000  82.0  78.0\n",
            "Apparel                                4.0  79.750000  83.0  77.0\n",
            "Internet Retail                       13.0  79.307692  82.0  73.0\n",
            "Supermarkets                          19.0  79.210526  84.0  73.0\n",
            "Financial Advisors                     5.0  79.200000  80.0  78.0\n",
            "Full-Service Restaurants              11.0  79.090909  83.0  77.0\n",
            "Internet Travel Services               3.0  79.000000  82.0  76.0\n",
            "Automobiles and Light Vehicles        14.0  78.785714  83.0  71.0\n",
            "Property and Casualty Insurance        8.0  78.375000  81.0  76.0\n",
            "Specialty Retail Stores               26.0  78.346154  82.0  75.0\n",
            "Banks                                 13.0  78.230769  81.0  76.0\n",
            "Personal Computers                     9.0  78.000000  83.0  74.0\n",
            "Limited-Service Restaurants           15.0  77.800000  86.0  69.0\n",
            "Consumer Shipping                      3.0  77.333333  79.0  74.0\n",
            "Department and Discount Stores         7.0  76.142857  78.0  73.0\n",
            "Hotels                                 8.0  75.250000  80.0  64.0\n",
            "Health Insurance                       6.0  75.000000  79.0  71.0\n",
            "Video Streaming Service               11.0  74.545455  79.0  68.0\n",
            "Wireless Telephone Service             6.0  74.166667  78.0  69.0\n",
            "Investor-Owned Energy Utilities       25.0  73.920000  80.0  68.0\n",
            "Internet News and Opinion              7.0  73.285714  78.0  69.0\n",
            "Airlines                               8.0  72.875000  80.0  63.0\n",
            "Internet Social Media                  5.0  71.400000  80.0  63.0\n",
            "Video-on-Demand Service                5.0  66.800000  71.0  64.0\n",
            "Internet Service Providers             3.0  61.666667  69.0  57.0\n"
          ],
          "name": "stdout"
        }
      ]
    },
    {
      "cell_type": "markdown",
      "metadata": {
        "id": "iZ-9kAxYgr_R",
        "colab_type": "text"
      },
      "source": [
        "What about employees? Let's look at the industries employees most love and hate."
      ]
    },
    {
      "cell_type": "code",
      "metadata": {
        "id": "6giH6BRbhGad",
        "colab_type": "code",
        "outputId": "40eec6ca-04cc-4f91-ee59-94a99651c859",
        "colab": {
          "base_uri": "https://localhost:8080/",
          "height": 572
        }
      },
      "source": [
        "sum_table_emp = ratings.groupby(['Industry'])['Overall Employee'].describe()[['count', 'mean','max','min']].sort_values('mean', ascending=False)\n",
        "print(sum_table_emp)"
      ],
      "execution_count": 68,
      "outputs": [
        {
          "output_type": "stream",
          "text": [
            "                                     count      mean  max  min\n",
            "Industry                                                      \n",
            "Internet Social Media                  5.0  3.900000  4.4  3.4\n",
            "Personal Care and Cleaning Products    6.0  3.850000  4.0  3.3\n",
            "Airlines                               8.0  3.837500  4.3  3.3\n",
            "Personal Computers                     9.0  3.833333  4.4  3.3\n",
            "Hotels                                 8.0  3.800000  4.5  3.0\n",
            "Video Streaming Service               11.0  3.736364  4.4  2.9\n",
            "Food Manufacturing                    10.0  3.670000  4.5  3.1\n",
            "Internet Investment Services           6.0  3.666667  3.9  3.2\n",
            "Internet News and Opinion              7.0  3.600000  3.8  3.0\n",
            "Financial Advisors                     5.0  3.580000  3.8  3.3\n",
            "Household Appliances                   5.0  3.580000  4.0  2.9\n",
            "Soft Drinks                            3.0  3.566667  3.7  3.3\n",
            "Internet Travel Services               3.0  3.566667  3.8  3.3\n",
            "Life Insurance                         5.0  3.560000  3.7  3.3\n",
            "Automobiles and Light Vehicles        14.0  3.557143  4.1  2.5\n",
            "Banks                                 13.0  3.492308  3.8  3.2\n",
            "Investor-Owned Energy Utilities       25.0  3.468000  4.0  2.1\n",
            "Health Insurance                       6.0  3.450000  3.9  2.8\n",
            "Property and Casualty Insurance        8.0  3.437500  4.0  3.2\n",
            "Limited-Service Restaurants           15.0  3.420000  3.9  3.0\n",
            "Full-Service Restaurants              11.0  3.381818  3.9  3.1\n",
            "Apparel                                4.0  3.375000  3.8  3.0\n",
            "Wireless Telephone Service             6.0  3.366667  4.0  2.6\n",
            "Consumer Shipping                      3.0  3.366667  3.7  2.9\n",
            "Supermarkets                          19.0  3.363158  4.2  2.3\n",
            "Internet Retail                       13.0  3.353846  4.0  2.6\n",
            "Specialty Retail Stores               26.0  3.280769  3.8  2.9\n",
            "Video-on-Demand Service                5.0  3.160000  3.7  2.5\n",
            "Internet Service Providers             3.0  3.133333  3.4  3.0\n",
            "Department and Discount Stores         7.0  2.971429  3.2  2.7\n"
          ],
          "name": "stdout"
        }
      ]
    },
    {
      "cell_type": "markdown",
      "metadata": {
        "id": "SduFsT4clQMH",
        "colab_type": "text"
      },
      "source": [
        "What about the companies within these industry categories? \n",
        "\n",
        "The industry with the highest consumer rating is soft drinks. But working for a soft drink manufacturer isn't quite as nice as buying from one. When it comes to soft drinks, happy employees and happy customer don't go together.\n",
        "\n",
        "The opposite pattern holds for internet social media: It's great to work for Facebook. But there seems to be a Facebook backlash among consumers. Faceback's ACSI score is even worse than Twitter's."
      ]
    },
    {
      "cell_type": "code",
      "metadata": {
        "id": "DsuiIy1CmUh8",
        "colab_type": "code",
        "outputId": "879fd961-c675-4d26-c223-aabe46677347",
        "colab": {
          "base_uri": "https://localhost:8080/",
          "height": 141
        }
      },
      "source": [
        "Soft_Drinks = ratings[ratings['Industry'] == 'Soft Drinks']\n",
        "Soft_Drinks.iloc[:,0:4].sort_values('Customer Satisfaction', ascending=False)"
      ],
      "execution_count": 69,
      "outputs": [
        {
          "output_type": "execute_result",
          "data": {
            "text/html": [
              "<div>\n",
              "<style scoped>\n",
              "    .dataframe tbody tr th:only-of-type {\n",
              "        vertical-align: middle;\n",
              "    }\n",
              "\n",
              "    .dataframe tbody tr th {\n",
              "        vertical-align: top;\n",
              "    }\n",
              "\n",
              "    .dataframe thead th {\n",
              "        text-align: right;\n",
              "    }\n",
              "</style>\n",
              "<table border=\"1\" class=\"dataframe\">\n",
              "  <thead>\n",
              "    <tr style=\"text-align: right;\">\n",
              "      <th></th>\n",
              "      <th>Industry</th>\n",
              "      <th>Company</th>\n",
              "      <th>Customer Satisfaction</th>\n",
              "      <th>Overall Employee</th>\n",
              "    </tr>\n",
              "  </thead>\n",
              "  <tbody>\n",
              "    <tr>\n",
              "      <th>200</th>\n",
              "      <td>Soft Drinks</td>\n",
              "      <td>Keurig Dr Pepper</td>\n",
              "      <td>82</td>\n",
              "      <td>3.3</td>\n",
              "    </tr>\n",
              "    <tr>\n",
              "      <th>201</th>\n",
              "      <td>Soft Drinks</td>\n",
              "      <td>PepsiCo</td>\n",
              "      <td>82</td>\n",
              "      <td>3.7</td>\n",
              "    </tr>\n",
              "    <tr>\n",
              "      <th>199</th>\n",
              "      <td>Soft Drinks</td>\n",
              "      <td>Coca-Cola</td>\n",
              "      <td>81</td>\n",
              "      <td>3.7</td>\n",
              "    </tr>\n",
              "  </tbody>\n",
              "</table>\n",
              "</div>"
            ],
            "text/plain": [
              "        Industry           Company  Customer Satisfaction  Overall Employee\n",
              "200  Soft Drinks  Keurig Dr Pepper                     82               3.3\n",
              "201  Soft Drinks           PepsiCo                     82               3.7\n",
              "199  Soft Drinks         Coca-Cola                     81               3.7"
            ]
          },
          "metadata": {
            "tags": []
          },
          "execution_count": 69
        }
      ]
    },
    {
      "cell_type": "code",
      "metadata": {
        "id": "emqwBB3Yl_pF",
        "colab_type": "code",
        "outputId": "f30c444f-b9d7-43a7-8d57-9308c48c6748",
        "colab": {
          "base_uri": "https://localhost:8080/",
          "height": 202
        }
      },
      "source": [
        "ISM = ratings[ratings['Industry'] == 'Internet Social Media']\n",
        "ISM.iloc[:,0:4].sort_values('Customer Satisfaction', ascending=False)"
      ],
      "execution_count": 70,
      "outputs": [
        {
          "output_type": "execute_result",
          "data": {
            "text/html": [
              "<div>\n",
              "<style scoped>\n",
              "    .dataframe tbody tr th:only-of-type {\n",
              "        vertical-align: middle;\n",
              "    }\n",
              "\n",
              "    .dataframe tbody tr th {\n",
              "        vertical-align: top;\n",
              "    }\n",
              "\n",
              "    .dataframe thead th {\n",
              "        text-align: right;\n",
              "    }\n",
              "</style>\n",
              "<table border=\"1\" class=\"dataframe\">\n",
              "  <thead>\n",
              "    <tr style=\"text-align: right;\">\n",
              "      <th></th>\n",
              "      <th>Industry</th>\n",
              "      <th>Company</th>\n",
              "      <th>Customer Satisfaction</th>\n",
              "      <th>Overall Employee</th>\n",
              "    </tr>\n",
              "  </thead>\n",
              "  <tbody>\n",
              "    <tr>\n",
              "      <th>124</th>\n",
              "      <td>Internet Social Media</td>\n",
              "      <td>Pinterest</td>\n",
              "      <td>80</td>\n",
              "      <td>4.1</td>\n",
              "    </tr>\n",
              "    <tr>\n",
              "      <th>127</th>\n",
              "      <td>Internet Social Media</td>\n",
              "      <td>Wikipedia</td>\n",
              "      <td>74</td>\n",
              "      <td>3.6</td>\n",
              "    </tr>\n",
              "    <tr>\n",
              "      <th>125</th>\n",
              "      <td>Internet Social Media</td>\n",
              "      <td>Snapchat</td>\n",
              "      <td>71</td>\n",
              "      <td>3.4</td>\n",
              "    </tr>\n",
              "    <tr>\n",
              "      <th>126</th>\n",
              "      <td>Internet Social Media</td>\n",
              "      <td>Twitter</td>\n",
              "      <td>69</td>\n",
              "      <td>4.0</td>\n",
              "    </tr>\n",
              "    <tr>\n",
              "      <th>123</th>\n",
              "      <td>Internet Social Media</td>\n",
              "      <td>Facebook</td>\n",
              "      <td>63</td>\n",
              "      <td>4.4</td>\n",
              "    </tr>\n",
              "  </tbody>\n",
              "</table>\n",
              "</div>"
            ],
            "text/plain": [
              "                  Industry    Company  Customer Satisfaction  Overall Employee\n",
              "124  Internet Social Media  Pinterest                     80               4.1\n",
              "127  Internet Social Media  Wikipedia                     74               3.6\n",
              "125  Internet Social Media   Snapchat                     71               3.4\n",
              "126  Internet Social Media    Twitter                     69               4.0\n",
              "123  Internet Social Media   Facebook                     63               4.4"
            ]
          },
          "metadata": {
            "tags": []
          },
          "execution_count": 70
        }
      ]
    },
    {
      "cell_type": "markdown",
      "metadata": {
        "id": "lIlUT3bjsdHh",
        "colab_type": "text"
      },
      "source": [
        "# Do happy employees beget happy customers?"
      ]
    },
    {
      "cell_type": "markdown",
      "metadata": {
        "id": "fA4LMAVNheZB",
        "colab_type": "text"
      },
      "source": [
        "Now it's time to test the idea that when employees are happy, customers are happy too. To what extent is customer satisfaction correlated with employee satisfaction? First we'll look at how customer satisfacton correlates with all five Glassdoor ratings."
      ]
    },
    {
      "cell_type": "code",
      "metadata": {
        "id": "BGz2AgzSiJfY",
        "colab_type": "code",
        "outputId": "46d0a4d0-bd19-4340-da45-cd131c782de1",
        "colab": {
          "base_uri": "https://localhost:8080/",
          "height": 173
        }
      },
      "source": [
        "# p-value method from https://stackoverflow.com/questions/25571882/pandas-columns-correlation-with-statistical-significance\n",
        "\n",
        "overall = pearsonr(ratings['Customer Satisfaction'], ratings['Overall Employee']) # 1st value is correlation, 2nd is p-value\n",
        "comp = pearsonr(ratings['Customer Satisfaction'], ratings['Comp & Benefits'])\n",
        "values = pearsonr(ratings['Customer Satisfaction'], ratings['Culture & Values'])\n",
        "growth = pearsonr(ratings['Customer Satisfaction'], ratings['Career Opportunities'])\n",
        "balance = pearsonr(ratings['Customer Satisfaction'], ratings['Work-Life Balance'])\n",
        "\n",
        "print('Correlation of Customer Love with:\\n')\n",
        "print('Employee Satisfaction ',overall)\n",
        "print('Comp/Benefits ',comp)\n",
        "print('Culture/Values ',values)\n",
        "print('Career Opportunities ',growth)\n",
        "print('Work-Life Balance ',balance)\n",
        "print('\\n(Correlation followed by p-value)')"
      ],
      "execution_count": 71,
      "outputs": [
        {
          "output_type": "stream",
          "text": [
            "Correlation of Customer Love with:\n",
            "\n",
            "Employee Satisfaction  (0.15115807526053038, 0.013068065882048648)\n",
            "Comp/Benefits  (-0.027966791523934435, 0.6479278153924193)\n",
            "Culture/Values  (0.22701610243946022, 0.00017323978078320968)\n",
            "Career Opportunities  (0.09896871715530155, 0.10531236242192746)\n",
            "Work-Life Balance  (0.10093144486818877, 0.09855272486215864)\n",
            "\n",
            "(Correlation followed by p-value)\n"
          ],
          "name": "stdout"
        }
      ]
    },
    {
      "cell_type": "markdown",
      "metadata": {
        "id": "jqiADCH9jebQ",
        "colab_type": "text"
      },
      "source": [
        "In general, the  correlations tend to be low and insignificant, but there's an exception: a relatively high (0.23) and very significant (0.02%) correlation between:\n",
        "\n",
        "*   how employees rate the company's culture and values\n",
        "*   how satisfied customers are\n",
        "\n",
        "This suggests that mission-driven companies which draw like-minded customers and employees do well on both dimensions. Take as an example the high customer and employee satisfaction scores of [Chick-fil-A](https://blog.lemonadestand.org/hiring-practices-chick-fil-someone-worked/), \"one of those baffling companies whose revenue is constantly increasing and whose employees always seem happy...Chick-fil-A founder S. Truett Cathy modeled his businesses after Biblical practices such as serving others before self, human compassion and having a day of rest.\"\n",
        "\n",
        "The only other significant correlation is between overall employee and overall customer satisfaction, at 0.15 with a p-value of 1.3% - significant but not high.\n",
        "\n",
        "\n",
        "\n"
      ]
    },
    {
      "cell_type": "code",
      "metadata": {
        "id": "vGorbyTADBVo",
        "colab_type": "code",
        "outputId": "d5579efe-1fc0-4636-c5a0-b765cea0b50a",
        "colab": {
          "base_uri": "https://localhost:8080/",
          "height": 225
        }
      },
      "source": [
        "print(ratings['Industry'].unique())"
      ],
      "execution_count": 72,
      "outputs": [
        {
          "output_type": "stream",
          "text": [
            "['Airlines' 'Apparel' 'Automobiles and Light Vehicles' 'Banks'\n",
            " 'Consumer Shipping' 'Department and Discount Stores' 'Financial Advisors'\n",
            " 'Food Manufacturing' 'Full-Service Restaurants' 'Health Insurance'\n",
            " 'Hotels' 'Household Appliances' 'Internet Investment Services'\n",
            " 'Internet News and Opinion' 'Internet Retail'\n",
            " 'Internet Service Providers' 'Internet Social Media'\n",
            " 'Internet Travel Services' 'Investor-Owned Energy Utilities'\n",
            " 'Life Insurance' 'Limited-Service Restaurants'\n",
            " 'Personal Care and Cleaning Products' 'Personal Computers'\n",
            " 'Property and Casualty Insurance' 'Soft Drinks' 'Specialty Retail Stores'\n",
            " 'Supermarkets' 'Video Streaming Service' 'Video-on-Demand Service'\n",
            " 'Wireless Telephone Service']\n"
          ],
          "name": "stdout"
        }
      ]
    },
    {
      "cell_type": "code",
      "metadata": {
        "id": "fkSOTqecufkj",
        "colab_type": "code",
        "colab": {}
      },
      "source": [
        "for industry in ratings['Industry'].unique():\n",
        "  ratings = ratings[ratings['Industry'] == industry]\n",
        "  overall = pearsonr(ratings['Customer Satisfaction'], ratings['Overall Employee'])\n",
        "  comp = pearsonr(ratings['Customer Satisfaction'], ratings['Comp & Benefits'])\n",
        "  values = pearsonr(ratings['Customer Satisfaction'], ratings['Culture & Values'])\n",
        "  growth = pearsonr(ratings['Customer Satisfaction'], ratings['Career Opportunities'])\n",
        "  balance = pearsonr(ratings['Customer Satisfaction'], ratings['Work-Life Balance'])\n",
        "  print('Correlation of customer satisfaction in',industry,'with:\\n')\n",
        "  print('Employee Satisfaction ',overall)\n",
        "  print('Comp/Benefits ',comp)\n",
        "  print('Culture/Values ',values)\n",
        "  print('Career Opportunities ',growth)\n",
        "  print('Work-Life Balance ',balance)\n",
        "  print('\\n(Correlation followed by p-value)')\n"
      ],
      "execution_count": 0,
      "outputs": []
    },
    {
      "cell_type": "markdown",
      "metadata": {
        "id": "4HZCM2hgpIuX",
        "colab_type": "text"
      },
      "source": [
        "# Scatterplots"
      ]
    },
    {
      "cell_type": "code",
      "metadata": {
        "id": "pkk0rkACpT9a",
        "colab_type": "code",
        "colab": {}
      },
      "source": [
        "ACSI = ratings['Customer Satisfaction'] + ratings['Random Big']\n",
        "ACSI_mean = ratings['Customer Satisfaction'].mean()\n",
        "GD = ratings['Overall Employee'] + ratings['Random Small']\n",
        "GD_mean = ratings['Overall Employee'].mean()\n",
        "\n",
        "def calculate_winner(row):\n",
        "  return row['Customer Satisfaction'] > ACSI_mean and row['Overall Employee'] > GD_mean\n",
        "\n",
        "ratings['Winner'] = ratings[['Customer Satisfaction', 'Overall Employee']].apply(calculate_winner, axis=1)\n",
        "\n",
        "def calculate_loser(row):\n",
        "  return row['Customer Satisfaction'] < ACSI_mean and row['Overall Employee'] < GD_mean\n",
        "\n",
        "ratings['Loser'] = ratings[['Customer Satisfaction', 'Overall Employee']].apply(calculate_loser, axis=1)\n",
        "\n",
        "\n"
      ],
      "execution_count": 0,
      "outputs": []
    },
    {
      "cell_type": "code",
      "metadata": {
        "id": "e-oO51tGNOHu",
        "colab_type": "code",
        "outputId": "3317386c-6e32-4a31-e6ed-e1d0646fb99b",
        "colab": {
          "base_uri": "https://localhost:8080/",
          "height": 389
        }
      },
      "source": [
        "fix, ax = plt.subplots(figsize=(18, 6))\n",
        "plt.style.use('seaborn-whitegrid')\n",
        "y = ACSI\n",
        "x = GD\n",
        "sns.scatterplot(x, y, hue=ratings['Winner'], color='green', ax=ax);\n",
        "sns.scatterplot(x, y, hue=ratings['Loser'], color='red', ax=ax);\n",
        "ax.axvline(x=GD_mean)\n",
        "ax.axhline(y=ACSI_mean, linestyle='-')"
      ],
      "execution_count": 0,
      "outputs": [
        {
          "output_type": "execute_result",
          "data": {
            "text/plain": [
              "<matplotlib.lines.Line2D at 0x7fa02068d908>"
            ]
          },
          "metadata": {
            "tags": []
          },
          "execution_count": 124
        },
        {
          "output_type": "display_data",
          "data": {
            "image/png": "[encoded data removed]",
            "text/plain": [
              "<Figure size 1296x432 with 1 Axes>"
            ]
          },
          "metadata": {
            "tags": []
          }
        }
      ]
    },
    {
      "cell_type": "markdown",
      "metadata": {
        "id": "ZqGXv2vmPz04",
        "colab_type": "text"
      },
      "source": [
        "# Who are the winners?\n",
        "Winners are companies with happy customers and happy employees. In the scatterplot 2x2, they're represented by the dots in the upper right quadrant. They have higher-than-average customer satisfaction ratings (which puts them in the top half) and higher-than-average employee satisfaction ratings (which puts them on the right side).\n"
      ]
    },
    {
      "cell_type": "code",
      "metadata": {
        "id": "1myn8-mRQtp8",
        "colab_type": "code",
        "outputId": "e84b5353-4046-4d70-f8d0-07b29d5dd1c6",
        "colab": {
          "base_uri": "https://localhost:8080/",
          "height": 591
        }
      },
      "source": [
        "ratings[ratings['Winner']]"
      ],
      "execution_count": 0,
      "outputs": [
        {
          "output_type": "execute_result",
          "data": {
            "text/html": [
              "<div>\n",
              "<style scoped>\n",
              "    .dataframe tbody tr th:only-of-type {\n",
              "        vertical-align: middle;\n",
              "    }\n",
              "\n",
              "    .dataframe tbody tr th {\n",
              "        vertical-align: top;\n",
              "    }\n",
              "\n",
              "    .dataframe thead th {\n",
              "        text-align: right;\n",
              "    }\n",
              "</style>\n",
              "<table border=\"1\" class=\"dataframe\">\n",
              "  <thead>\n",
              "    <tr style=\"text-align: right;\">\n",
              "      <th></th>\n",
              "      <th>Industry</th>\n",
              "      <th>Company</th>\n",
              "      <th>Customer Satisfaction</th>\n",
              "      <th>Overall Employee</th>\n",
              "      <th>Comp &amp; Benefits</th>\n",
              "      <th>Culture &amp; Values</th>\n",
              "      <th>Career Opportunities</th>\n",
              "      <th>Work-Life Balance</th>\n",
              "      <th>Senior Management</th>\n",
              "      <th>English Reviews</th>\n",
              "      <th>Total Reviews</th>\n",
              "      <th>Random Big</th>\n",
              "      <th>Random Small</th>\n",
              "      <th>Winner</th>\n",
              "      <th>Loser</th>\n",
              "    </tr>\n",
              "  </thead>\n",
              "  <tbody>\n",
              "    <tr>\n",
              "      <th>0</th>\n",
              "      <td>Airlines</td>\n",
              "      <td>Alaska</td>\n",
              "      <td>80</td>\n",
              "      <td>3.7</td>\n",
              "      <td>3.7</td>\n",
              "      <td>3.6</td>\n",
              "      <td>3.5</td>\n",
              "      <td>3.2</td>\n",
              "      <td>3.1</td>\n",
              "      <td>539</td>\n",
              "      <td>577</td>\n",
              "      <td>0.070</td>\n",
              "      <td>-0.014</td>\n",
              "      <td>True</td>\n",
              "      <td>False</td>\n",
              "    </tr>\n",
              "    <tr>\n",
              "      <th>4</th>\n",
              "      <td>Airlines</td>\n",
              "      <td>JetBlue</td>\n",
              "      <td>79</td>\n",
              "      <td>3.8</td>\n",
              "      <td>3.5</td>\n",
              "      <td>3.7</td>\n",
              "      <td>3.6</td>\n",
              "      <td>3.5</td>\n",
              "      <td>3</td>\n",
              "      <td>1198</td>\n",
              "      <td>1257</td>\n",
              "      <td>-0.169</td>\n",
              "      <td>-0.001</td>\n",
              "      <td>True</td>\n",
              "      <td>False</td>\n",
              "    </tr>\n",
              "    <tr>\n",
              "      <th>5</th>\n",
              "      <td>Airlines</td>\n",
              "      <td>Southwest</td>\n",
              "      <td>79</td>\n",
              "      <td>4.3</td>\n",
              "      <td>4.3</td>\n",
              "      <td>4.3</td>\n",
              "      <td>4.2</td>\n",
              "      <td>3.8</td>\n",
              "      <td>3.8</td>\n",
              "      <td>1891</td>\n",
              "      <td>2169</td>\n",
              "      <td>-0.114</td>\n",
              "      <td>0.040</td>\n",
              "      <td>True</td>\n",
              "      <td>False</td>\n",
              "    </tr>\n",
              "    <tr>\n",
              "      <th>12</th>\n",
              "      <td>Automobiles and Light Vehicles</td>\n",
              "      <td>BMW</td>\n",
              "      <td>82</td>\n",
              "      <td>3.6</td>\n",
              "      <td>3.9</td>\n",
              "      <td>2.9</td>\n",
              "      <td>3.2</td>\n",
              "      <td>3.3</td>\n",
              "      <td>2.6</td>\n",
              "      <td>696</td>\n",
              "      <td>2095</td>\n",
              "      <td>0.413</td>\n",
              "      <td>-0.033</td>\n",
              "      <td>True</td>\n",
              "      <td>False</td>\n",
              "    </tr>\n",
              "    <tr>\n",
              "      <th>15</th>\n",
              "      <td>Automobiles and Light Vehicles</td>\n",
              "      <td>GM</td>\n",
              "      <td>80</td>\n",
              "      <td>3.5</td>\n",
              "      <td>3.9</td>\n",
              "      <td>3.3</td>\n",
              "      <td>3.1</td>\n",
              "      <td>3.5</td>\n",
              "      <td>2.8</td>\n",
              "      <td>4376</td>\n",
              "      <td>6003</td>\n",
              "      <td>0.000</td>\n",
              "      <td>-0.027</td>\n",
              "      <td>True</td>\n",
              "      <td>False</td>\n",
              "    </tr>\n",
              "    <tr>\n",
              "      <th>...</th>\n",
              "      <td>...</td>\n",
              "      <td>...</td>\n",
              "      <td>...</td>\n",
              "      <td>...</td>\n",
              "      <td>...</td>\n",
              "      <td>...</td>\n",
              "      <td>...</td>\n",
              "      <td>...</td>\n",
              "      <td>...</td>\n",
              "      <td>...</td>\n",
              "      <td>...</td>\n",
              "      <td>...</td>\n",
              "      <td>...</td>\n",
              "      <td>...</td>\n",
              "      <td>...</td>\n",
              "    </tr>\n",
              "    <tr>\n",
              "      <th>235</th>\n",
              "      <td>Supermarkets</td>\n",
              "      <td>Hy-Vee</td>\n",
              "      <td>78</td>\n",
              "      <td>3.5</td>\n",
              "      <td>3.2</td>\n",
              "      <td>3.5</td>\n",
              "      <td>3.3</td>\n",
              "      <td>3.3</td>\n",
              "      <td>2.8</td>\n",
              "      <td>2123</td>\n",
              "      <td>2148</td>\n",
              "      <td>0.174</td>\n",
              "      <td>-0.003</td>\n",
              "      <td>True</td>\n",
              "      <td>False</td>\n",
              "    </tr>\n",
              "    <tr>\n",
              "      <th>238</th>\n",
              "      <td>Supermarkets</td>\n",
              "      <td>Publix</td>\n",
              "      <td>83</td>\n",
              "      <td>3.8</td>\n",
              "      <td>3.8</td>\n",
              "      <td>3.8</td>\n",
              "      <td>3.8</td>\n",
              "      <td>3.3</td>\n",
              "      <td>3.3</td>\n",
              "      <td>6782</td>\n",
              "      <td>6839</td>\n",
              "      <td>-0.378</td>\n",
              "      <td>-0.043</td>\n",
              "      <td>True</td>\n",
              "      <td>False</td>\n",
              "    </tr>\n",
              "    <tr>\n",
              "      <th>244</th>\n",
              "      <td>Supermarkets</td>\n",
              "      <td>Trader Joe's</td>\n",
              "      <td>84</td>\n",
              "      <td>4.2</td>\n",
              "      <td>4.2</td>\n",
              "      <td>4.3</td>\n",
              "      <td>3.7</td>\n",
              "      <td>3.9</td>\n",
              "      <td>3.8</td>\n",
              "      <td>2968</td>\n",
              "      <td>2990</td>\n",
              "      <td>0.488</td>\n",
              "      <td>-0.020</td>\n",
              "      <td>True</td>\n",
              "      <td>False</td>\n",
              "    </tr>\n",
              "    <tr>\n",
              "      <th>246</th>\n",
              "      <td>Supermarkets</td>\n",
              "      <td>Wegmans</td>\n",
              "      <td>84</td>\n",
              "      <td>4.0</td>\n",
              "      <td>3.9</td>\n",
              "      <td>4.1</td>\n",
              "      <td>3.8</td>\n",
              "      <td>3.8</td>\n",
              "      <td>3.5</td>\n",
              "      <td>2352</td>\n",
              "      <td>2404</td>\n",
              "      <td>0.488</td>\n",
              "      <td>0.004</td>\n",
              "      <td>True</td>\n",
              "      <td>False</td>\n",
              "    </tr>\n",
              "    <tr>\n",
              "      <th>253</th>\n",
              "      <td>Video Streaming Service</td>\n",
              "      <td>Netflix</td>\n",
              "      <td>79</td>\n",
              "      <td>3.9</td>\n",
              "      <td>4.5</td>\n",
              "      <td>3.8</td>\n",
              "      <td>3.6</td>\n",
              "      <td>3.3</td>\n",
              "      <td>3.4</td>\n",
              "      <td>912</td>\n",
              "      <td>1015</td>\n",
              "      <td>-0.453</td>\n",
              "      <td>0.008</td>\n",
              "      <td>True</td>\n",
              "      <td>False</td>\n",
              "    </tr>\n",
              "  </tbody>\n",
              "</table>\n",
              "<p>84 rows × 15 columns</p>\n",
              "</div>"
            ],
            "text/plain": [
              "                           Industry       Company  ...  Winner  Loser\n",
              "0                          Airlines        Alaska  ...    True  False\n",
              "4                          Airlines       JetBlue  ...    True  False\n",
              "5                          Airlines     Southwest  ...    True  False\n",
              "12   Automobiles and Light Vehicles           BMW  ...    True  False\n",
              "15   Automobiles and Light Vehicles            GM  ...    True  False\n",
              "..                              ...           ...  ...     ...    ...\n",
              "235                    Supermarkets        Hy-Vee  ...    True  False\n",
              "238                    Supermarkets        Publix  ...    True  False\n",
              "244                    Supermarkets  Trader Joe's  ...    True  False\n",
              "246                    Supermarkets       Wegmans  ...    True  False\n",
              "253         Video Streaming Service       Netflix  ...    True  False\n",
              "\n",
              "[84 rows x 15 columns]"
            ]
          },
          "metadata": {
            "tags": []
          },
          "execution_count": 128
        }
      ]
    },
    {
      "cell_type": "markdown",
      "metadata": {
        "id": "x7F-IPUDRmDr",
        "colab_type": "text"
      },
      "source": [
        "The losers are in the lower left. Their customers wouldn't shop there if they had a better alternative. Their employees aren't crazy about working there either. "
      ]
    },
    {
      "cell_type": "code",
      "metadata": {
        "id": "b2J4y0RcR_xA",
        "colab_type": "code",
        "outputId": "0b747edb-f5fd-48f4-cc39-8aa7ddbc49bf",
        "colab": {
          "base_uri": "https://localhost:8080/",
          "height": 747
        }
      },
      "source": [
        "ratings[ratings['Loser']]"
      ],
      "execution_count": 0,
      "outputs": [
        {
          "output_type": "execute_result",
          "data": {
            "text/html": [
              "<div>\n",
              "<style scoped>\n",
              "    .dataframe tbody tr th:only-of-type {\n",
              "        vertical-align: middle;\n",
              "    }\n",
              "\n",
              "    .dataframe tbody tr th {\n",
              "        vertical-align: top;\n",
              "    }\n",
              "\n",
              "    .dataframe thead th {\n",
              "        text-align: right;\n",
              "    }\n",
              "</style>\n",
              "<table border=\"1\" class=\"dataframe\">\n",
              "  <thead>\n",
              "    <tr style=\"text-align: right;\">\n",
              "      <th></th>\n",
              "      <th>Industry</th>\n",
              "      <th>Company</th>\n",
              "      <th>Customer Satisfaction</th>\n",
              "      <th>Overall Employee</th>\n",
              "      <th>Comp &amp; Benefits</th>\n",
              "      <th>Culture &amp; Values</th>\n",
              "      <th>Career Opportunities</th>\n",
              "      <th>Work-Life Balance</th>\n",
              "      <th>Senior Management</th>\n",
              "      <th>English Reviews</th>\n",
              "      <th>Total Reviews</th>\n",
              "      <th>Random Big</th>\n",
              "      <th>Random Small</th>\n",
              "      <th>winner</th>\n",
              "      <th>Winner</th>\n",
              "      <th>Loser</th>\n",
              "    </tr>\n",
              "  </thead>\n",
              "  <tbody>\n",
              "    <tr>\n",
              "      <th>3</th>\n",
              "      <td>Airlines</td>\n",
              "      <td>Frontier</td>\n",
              "      <td>64</td>\n",
              "      <td>3.3</td>\n",
              "      <td>2.6</td>\n",
              "      <td>2.8</td>\n",
              "      <td>3.2</td>\n",
              "      <td>3.1</td>\n",
              "      <td>2.4</td>\n",
              "      <td>470</td>\n",
              "      <td>481</td>\n",
              "      <td>0.219</td>\n",
              "      <td>-0.007</td>\n",
              "      <td>False</td>\n",
              "      <td>False</td>\n",
              "      <td>True</td>\n",
              "    </tr>\n",
              "    <tr>\n",
              "      <th>20</th>\n",
              "      <td>Automobiles and Light Vehicles</td>\n",
              "      <td>Mitsubishi</td>\n",
              "      <td>76</td>\n",
              "      <td>3.2</td>\n",
              "      <td>3.2</td>\n",
              "      <td>3.1</td>\n",
              "      <td>2.6</td>\n",
              "      <td>3.2</td>\n",
              "      <td>2.8</td>\n",
              "      <td>31</td>\n",
              "      <td>43</td>\n",
              "      <td>-0.393</td>\n",
              "      <td>-0.039</td>\n",
              "      <td>False</td>\n",
              "      <td>False</td>\n",
              "      <td>True</td>\n",
              "    </tr>\n",
              "    <tr>\n",
              "      <th>33</th>\n",
              "      <td>Banks</td>\n",
              "      <td>KeyBank</td>\n",
              "      <td>76</td>\n",
              "      <td>3.3</td>\n",
              "      <td>3.5</td>\n",
              "      <td>3.3</td>\n",
              "      <td>3.2</td>\n",
              "      <td>3.6</td>\n",
              "      <td>3</td>\n",
              "      <td>1518</td>\n",
              "      <td>1608</td>\n",
              "      <td>0.323</td>\n",
              "      <td>-0.017</td>\n",
              "      <td>False</td>\n",
              "      <td>False</td>\n",
              "      <td>True</td>\n",
              "    </tr>\n",
              "    <tr>\n",
              "      <th>39</th>\n",
              "      <td>Consumer Shipping</td>\n",
              "      <td>U.S. Postal Service</td>\n",
              "      <td>74</td>\n",
              "      <td>2.9</td>\n",
              "      <td>3.6</td>\n",
              "      <td>2.4</td>\n",
              "      <td>3.0</td>\n",
              "      <td>2.9</td>\n",
              "      <td>2.9</td>\n",
              "      <td>6945</td>\n",
              "      <td>7503</td>\n",
              "      <td>0.005</td>\n",
              "      <td>0.021</td>\n",
              "      <td>False</td>\n",
              "      <td>False</td>\n",
              "      <td>True</td>\n",
              "    </tr>\n",
              "    <tr>\n",
              "      <th>43</th>\n",
              "      <td>Department and Discount Stores</td>\n",
              "      <td>Big Lots</td>\n",
              "      <td>73</td>\n",
              "      <td>3.1</td>\n",
              "      <td>3.0</td>\n",
              "      <td>3.0</td>\n",
              "      <td>2.8</td>\n",
              "      <td>2.9</td>\n",
              "      <td>2.7</td>\n",
              "      <td>1704</td>\n",
              "      <td>1734</td>\n",
              "      <td>-0.119</td>\n",
              "      <td>-0.018</td>\n",
              "      <td>False</td>\n",
              "      <td>False</td>\n",
              "      <td>True</td>\n",
              "    </tr>\n",
              "    <tr>\n",
              "      <th>...</th>\n",
              "      <td>...</td>\n",
              "      <td>...</td>\n",
              "      <td>...</td>\n",
              "      <td>...</td>\n",
              "      <td>...</td>\n",
              "      <td>...</td>\n",
              "      <td>...</td>\n",
              "      <td>...</td>\n",
              "      <td>...</td>\n",
              "      <td>...</td>\n",
              "      <td>...</td>\n",
              "      <td>...</td>\n",
              "      <td>...</td>\n",
              "      <td>...</td>\n",
              "      <td>...</td>\n",
              "      <td>...</td>\n",
              "    </tr>\n",
              "    <tr>\n",
              "      <th>261</th>\n",
              "      <td>Video-on-Demand Service</td>\n",
              "      <td>DISH</td>\n",
              "      <td>71</td>\n",
              "      <td>2.9</td>\n",
              "      <td>2.9</td>\n",
              "      <td>2.7</td>\n",
              "      <td>3.0</td>\n",
              "      <td>2.7</td>\n",
              "      <td>2.5</td>\n",
              "      <td>4491</td>\n",
              "      <td>4669</td>\n",
              "      <td>-0.030</td>\n",
              "      <td>-0.026</td>\n",
              "      <td>False</td>\n",
              "      <td>False</td>\n",
              "      <td>True</td>\n",
              "    </tr>\n",
              "    <tr>\n",
              "      <th>262</th>\n",
              "      <td>Video-on-Demand Service</td>\n",
              "      <td>Frontier Communications</td>\n",
              "      <td>67</td>\n",
              "      <td>2.5</td>\n",
              "      <td>3.3</td>\n",
              "      <td>2.2</td>\n",
              "      <td>2.3</td>\n",
              "      <td>2.7</td>\n",
              "      <td>1.9</td>\n",
              "      <td>1540</td>\n",
              "      <td>1615</td>\n",
              "      <td>-0.323</td>\n",
              "      <td>0.012</td>\n",
              "      <td>False</td>\n",
              "      <td>False</td>\n",
              "      <td>True</td>\n",
              "    </tr>\n",
              "    <tr>\n",
              "      <th>263</th>\n",
              "      <td>Wireless Telephone Service</td>\n",
              "      <td>AT&amp;T</td>\n",
              "      <td>74</td>\n",
              "      <td>3.4</td>\n",
              "      <td>4.0</td>\n",
              "      <td>3.1</td>\n",
              "      <td>3.1</td>\n",
              "      <td>3.1</td>\n",
              "      <td>2.8</td>\n",
              "      <td>21782</td>\n",
              "      <td>23622</td>\n",
              "      <td>-0.244</td>\n",
              "      <td>0.038</td>\n",
              "      <td>False</td>\n",
              "      <td>False</td>\n",
              "      <td>True</td>\n",
              "    </tr>\n",
              "    <tr>\n",
              "      <th>264</th>\n",
              "      <td>Wireless Telephone Service</td>\n",
              "      <td>Sprint</td>\n",
              "      <td>69</td>\n",
              "      <td>3.2</td>\n",
              "      <td>3.6</td>\n",
              "      <td>3.0</td>\n",
              "      <td>3.1</td>\n",
              "      <td>3.0</td>\n",
              "      <td>2.7</td>\n",
              "      <td>8016</td>\n",
              "      <td>8203</td>\n",
              "      <td>-0.438</td>\n",
              "      <td>-0.034</td>\n",
              "      <td>False</td>\n",
              "      <td>False</td>\n",
              "      <td>True</td>\n",
              "    </tr>\n",
              "    <tr>\n",
              "      <th>267</th>\n",
              "      <td>Wireless Telephone Service</td>\n",
              "      <td>U.S. Cellular</td>\n",
              "      <td>74</td>\n",
              "      <td>3.4</td>\n",
              "      <td>4.0</td>\n",
              "      <td>3.6</td>\n",
              "      <td>3.1</td>\n",
              "      <td>3.0</td>\n",
              "      <td>3.3</td>\n",
              "      <td>1469</td>\n",
              "      <td>1503</td>\n",
              "      <td>0.284</td>\n",
              "      <td>0.007</td>\n",
              "      <td>False</td>\n",
              "      <td>False</td>\n",
              "      <td>True</td>\n",
              "    </tr>\n",
              "  </tbody>\n",
              "</table>\n",
              "<p>61 rows × 16 columns</p>\n",
              "</div>"
            ],
            "text/plain": [
              "                           Industry                  Company  ...  Winner  Loser\n",
              "3                          Airlines                 Frontier  ...   False   True\n",
              "20   Automobiles and Light Vehicles               Mitsubishi  ...   False   True\n",
              "33                            Banks                  KeyBank  ...   False   True\n",
              "39                Consumer Shipping      U.S. Postal Service  ...   False   True\n",
              "43   Department and Discount Stores                 Big Lots  ...   False   True\n",
              "..                              ...                      ...  ...     ...    ...\n",
              "261         Video-on-Demand Service                     DISH  ...   False   True\n",
              "262         Video-on-Demand Service  Frontier Communications  ...   False   True\n",
              "263      Wireless Telephone Service                     AT&T  ...   False   True\n",
              "264      Wireless Telephone Service                   Sprint  ...   False   True\n",
              "267      Wireless Telephone Service            U.S. Cellular  ...   False   True\n",
              "\n",
              "[61 rows x 16 columns]"
            ]
          },
          "metadata": {
            "tags": []
          },
          "execution_count": 105
        }
      ]
    }
  ]
}